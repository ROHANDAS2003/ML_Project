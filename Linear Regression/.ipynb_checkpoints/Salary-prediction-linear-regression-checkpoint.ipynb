{
 "cells": [
  {
   "cell_type": "markdown",
   "id": "adeebc8e-867a-4534-9752-829cd3c80833",
   "metadata": {},
   "source": [
    "# 🧠 Salary Prediction Using Linear Regression\n",
    "\n",
    "This beginner-level machine learning project aims to predict an employee’s **salary** based on their **years of experience** using **Simple Linear Regression**. The goal is to build an interpretable model, visualize the relationship between experience and salary, and make predictions for new data points.\n",
    "\n",
    "## Context\n",
    "\n",
    "Imagine you are working with an HR analytics team at a hiring consultancy firm. The firm has collected historical data of employees including their years of experience and the corresponding salaries. The management wants to use this data to predict the expected salary for a new candidate based on their work experience. This would help in making fair salary offers and in budgeting for hiring plans.\n",
    "\n",
    "<hr>\n",
    "\n",
    "## Dataset Details\n",
    "\n",
    "- **Features:** exp(in months) (numeric)\n",
    "- **Target:** salary(in thousands dollars) (numeric)\n",
    "- **Size:** 1000 entries\n",
    "\n",
    "The dataset contains only one independent variable (`exp(in months)`), making it a perfect candidate for a **simple linear regression model**.\n",
    "<hr>\n",
    "\n",
    "## Importing necessary modules"
   ]
  },
  {
   "cell_type": "code",
   "execution_count": 52,
   "id": "86963bf0-b94f-4fbf-92ce-276670d6507e",
   "metadata": {},
   "outputs": [],
   "source": [
    "import pandas as pd\n",
    "import numpy as np\n",
    "import matplotlib.pyplot as plt\n",
    "from sklearn.linear_model import LinearRegression\n",
    "from sklearn.model_selection import train_test_split\n",
    "from sklearn.metrics import mean_squared_error, mean_absolute_error, r2_score\n",
    "\n",
    "import warnings\n",
    "warnings.filterwarnings(\"ignore\", category=UserWarning)"
   ]
  },
  {
   "cell_type": "markdown",
   "id": "d07cedeb-7856-4bf0-9072-f91316ccacc0",
   "metadata": {},
   "source": [
    "## Data Loading and Exploring"
   ]
  },
  {
   "cell_type": "code",
   "execution_count": 16,
   "id": "e38a66ec-abdf-4f69-92a2-5074a4853756",
   "metadata": {},
   "outputs": [
    {
     "name": "stdout",
     "output_type": "stream",
     "text": [
      "   exp(in months)  salary(in thousands)\n",
      "0       18.290293             16.521825\n",
      "1       17.023407             11.666234\n",
      "2       26.343613             23.167255\n",
      "3       19.105834             20.877145\n",
      "4       27.742516             23.166236\n"
     ]
    }
   ],
   "source": [
    "data = pd.read_csv(\"Experience-Salary.csv\")\n",
    "print(data.head())"
   ]
  },
  {
   "cell_type": "markdown",
   "id": "64f24735-4d22-4cca-94eb-c5d8e0af494b",
   "metadata": {},
   "source": [
    "This data looks messy with those decimal values, let's round off them"
   ]
  },
  {
   "cell_type": "code",
   "execution_count": 22,
   "id": "f3a6f6f2-975d-4a56-9966-09bdf3d694ec",
   "metadata": {},
   "outputs": [
    {
     "name": "stdout",
     "output_type": "stream",
     "text": [
      "   exp(in months)  salary(in thousands)\n",
      "0              18                  16.5\n",
      "1              17                  11.7\n",
      "2              26                  23.2\n",
      "3              19                  20.9\n",
      "4              28                  23.2\n"
     ]
    }
   ],
   "source": [
    "data[\"exp(in months)\"] = data[\"exp(in months)\"].round(0).astype(int)\n",
    "data[\"salary(in thousands)\"] = data[\"salary(in thousands)\"].round(1)\n",
    "print(data.head())"
   ]
  },
  {
   "cell_type": "code",
   "execution_count": 23,
   "id": "052f2748-04b1-492c-9255-0a113408c11f",
   "metadata": {},
   "outputs": [
    {
     "name": "stdout",
     "output_type": "stream",
     "text": [
      "<class 'pandas.core.frame.DataFrame'>\n",
      "RangeIndex: 1000 entries, 0 to 999\n",
      "Data columns (total 2 columns):\n",
      " #   Column                Non-Null Count  Dtype  \n",
      "---  ------                --------------  -----  \n",
      " 0   exp(in months)        1000 non-null   int64  \n",
      " 1   salary(in thousands)  1000 non-null   float64\n",
      "dtypes: float64(1), int64(1)\n",
      "memory usage: 15.8 KB\n"
     ]
    }
   ],
   "source": [
    "data.info()"
   ]
  },
  {
   "cell_type": "markdown",
   "id": "c7d334f0-94c0-4d12-a414-fc56131c48b2",
   "metadata": {},
   "source": [
    "- The datatype is correct.\n",
    "- No null values found"
   ]
  },
  {
   "cell_type": "code",
   "execution_count": 25,
   "id": "6e89e98b-65f1-41ba-8b0d-4dd63aaebfc6",
   "metadata": {},
   "outputs": [
    {
     "data": {
      "text/html": [
       "<div>\n",
       "<style scoped>\n",
       "    .dataframe tbody tr th:only-of-type {\n",
       "        vertical-align: middle;\n",
       "    }\n",
       "\n",
       "    .dataframe tbody tr th {\n",
       "        vertical-align: top;\n",
       "    }\n",
       "\n",
       "    .dataframe thead th {\n",
       "        text-align: right;\n",
       "    }\n",
       "</style>\n",
       "<table border=\"1\" class=\"dataframe\">\n",
       "  <thead>\n",
       "    <tr style=\"text-align: right;\">\n",
       "      <th></th>\n",
       "      <th>exp(in months)</th>\n",
       "      <th>salary(in thousands)</th>\n",
       "    </tr>\n",
       "  </thead>\n",
       "  <tbody>\n",
       "    <tr>\n",
       "      <th>count</th>\n",
       "      <td>1000.000000</td>\n",
       "      <td>1000.000000</td>\n",
       "    </tr>\n",
       "    <tr>\n",
       "      <th>mean</th>\n",
       "      <td>26.151000</td>\n",
       "      <td>26.721700</td>\n",
       "    </tr>\n",
       "    <tr>\n",
       "      <th>std</th>\n",
       "      <td>8.727678</td>\n",
       "      <td>8.845393</td>\n",
       "    </tr>\n",
       "    <tr>\n",
       "      <th>min</th>\n",
       "      <td>1.000000</td>\n",
       "      <td>-1.300000</td>\n",
       "    </tr>\n",
       "    <tr>\n",
       "      <th>25%</th>\n",
       "      <td>20.000000</td>\n",
       "      <td>20.500000</td>\n",
       "    </tr>\n",
       "    <tr>\n",
       "      <th>50%</th>\n",
       "      <td>26.000000</td>\n",
       "      <td>26.750000</td>\n",
       "    </tr>\n",
       "    <tr>\n",
       "      <th>75%</th>\n",
       "      <td>32.000000</td>\n",
       "      <td>32.600000</td>\n",
       "    </tr>\n",
       "    <tr>\n",
       "      <th>max</th>\n",
       "      <td>49.000000</td>\n",
       "      <td>55.300000</td>\n",
       "    </tr>\n",
       "  </tbody>\n",
       "</table>\n",
       "</div>"
      ],
      "text/plain": [
       "       exp(in months)  salary(in thousands)\n",
       "count     1000.000000           1000.000000\n",
       "mean        26.151000             26.721700\n",
       "std          8.727678              8.845393\n",
       "min          1.000000             -1.300000\n",
       "25%         20.000000             20.500000\n",
       "50%         26.000000             26.750000\n",
       "75%         32.000000             32.600000\n",
       "max         49.000000             55.300000"
      ]
     },
     "execution_count": 25,
     "metadata": {},
     "output_type": "execute_result"
    }
   ],
   "source": [
    "data.describe()"
   ]
  },
  {
   "cell_type": "markdown",
   "id": "c0718d30-ec45-4c48-ac9b-06b40e467e69",
   "metadata": {},
   "source": [
    "**Min value of `salary(in thousands)`:** -1.3k → this is not realistic for salary (salary shouldn’t be negative!)\n",
    "\n",
    "let's check how many of these are their"
   ]
  },
  {
   "cell_type": "code",
   "execution_count": 32,
   "id": "c44eba91-7c40-4de4-88a3-39d46eabd169",
   "metadata": {},
   "outputs": [
    {
     "data": {
      "text/html": [
       "<div>\n",
       "<style scoped>\n",
       "    .dataframe tbody tr th:only-of-type {\n",
       "        vertical-align: middle;\n",
       "    }\n",
       "\n",
       "    .dataframe tbody tr th {\n",
       "        vertical-align: top;\n",
       "    }\n",
       "\n",
       "    .dataframe thead th {\n",
       "        text-align: right;\n",
       "    }\n",
       "</style>\n",
       "<table border=\"1\" class=\"dataframe\">\n",
       "  <thead>\n",
       "    <tr style=\"text-align: right;\">\n",
       "      <th></th>\n",
       "      <th>exp(in months)</th>\n",
       "      <th>salary(in thousands)</th>\n",
       "    </tr>\n",
       "  </thead>\n",
       "  <tbody>\n",
       "    <tr>\n",
       "      <th>133</th>\n",
       "      <td>9</td>\n",
       "      <td>-1.3</td>\n",
       "    </tr>\n",
       "    <tr>\n",
       "      <th>772</th>\n",
       "      <td>3</td>\n",
       "      <td>-0.1</td>\n",
       "    </tr>\n",
       "  </tbody>\n",
       "</table>\n",
       "</div>"
      ],
      "text/plain": [
       "     exp(in months)  salary(in thousands)\n",
       "133               9                  -1.3\n",
       "772               3                  -0.1"
      ]
     },
     "execution_count": 32,
     "metadata": {},
     "output_type": "execute_result"
    }
   ],
   "source": [
    "data[data[\"salary(in thousands)\"] < 0]"
   ]
  },
  {
   "cell_type": "markdown",
   "id": "c77561d5-e68b-4a44-b44f-35b683596bb1",
   "metadata": {},
   "source": [
    "Let's impute them with 0"
   ]
  },
  {
   "cell_type": "code",
   "execution_count": 33,
   "id": "63140524-e00a-4a29-8ea5-45d3ed88043d",
   "metadata": {},
   "outputs": [],
   "source": [
    "data.loc[data[\"salary(in thousands)\"] < 0, \"salary(in thousands)\"] = 0"
   ]
  },
  {
   "cell_type": "code",
   "execution_count": 34,
   "id": "62125349-ba0d-455c-b944-c200dd2cb2bf",
   "metadata": {},
   "outputs": [
    {
     "data": {
      "text/html": [
       "<div>\n",
       "<style scoped>\n",
       "    .dataframe tbody tr th:only-of-type {\n",
       "        vertical-align: middle;\n",
       "    }\n",
       "\n",
       "    .dataframe tbody tr th {\n",
       "        vertical-align: top;\n",
       "    }\n",
       "\n",
       "    .dataframe thead th {\n",
       "        text-align: right;\n",
       "    }\n",
       "</style>\n",
       "<table border=\"1\" class=\"dataframe\">\n",
       "  <thead>\n",
       "    <tr style=\"text-align: right;\">\n",
       "      <th></th>\n",
       "      <th>exp(in months)</th>\n",
       "      <th>salary(in thousands)</th>\n",
       "    </tr>\n",
       "  </thead>\n",
       "  <tbody>\n",
       "    <tr>\n",
       "      <th>count</th>\n",
       "      <td>1000.000000</td>\n",
       "      <td>1000.000000</td>\n",
       "    </tr>\n",
       "    <tr>\n",
       "      <th>mean</th>\n",
       "      <td>26.151000</td>\n",
       "      <td>26.723100</td>\n",
       "    </tr>\n",
       "    <tr>\n",
       "      <th>std</th>\n",
       "      <td>8.727678</td>\n",
       "      <td>8.841062</td>\n",
       "    </tr>\n",
       "    <tr>\n",
       "      <th>min</th>\n",
       "      <td>1.000000</td>\n",
       "      <td>0.000000</td>\n",
       "    </tr>\n",
       "    <tr>\n",
       "      <th>25%</th>\n",
       "      <td>20.000000</td>\n",
       "      <td>20.500000</td>\n",
       "    </tr>\n",
       "    <tr>\n",
       "      <th>50%</th>\n",
       "      <td>26.000000</td>\n",
       "      <td>26.750000</td>\n",
       "    </tr>\n",
       "    <tr>\n",
       "      <th>75%</th>\n",
       "      <td>32.000000</td>\n",
       "      <td>32.600000</td>\n",
       "    </tr>\n",
       "    <tr>\n",
       "      <th>max</th>\n",
       "      <td>49.000000</td>\n",
       "      <td>55.300000</td>\n",
       "    </tr>\n",
       "  </tbody>\n",
       "</table>\n",
       "</div>"
      ],
      "text/plain": [
       "       exp(in months)  salary(in thousands)\n",
       "count     1000.000000           1000.000000\n",
       "mean        26.151000             26.723100\n",
       "std          8.727678              8.841062\n",
       "min          1.000000              0.000000\n",
       "25%         20.000000             20.500000\n",
       "50%         26.000000             26.750000\n",
       "75%         32.000000             32.600000\n",
       "max         49.000000             55.300000"
      ]
     },
     "execution_count": 34,
     "metadata": {},
     "output_type": "execute_result"
    }
   ],
   "source": [
    "data.describe()"
   ]
  },
  {
   "cell_type": "markdown",
   "id": "60c43c54-4e0b-442e-b8f4-ff86b07d85aa",
   "metadata": {},
   "source": [
    "## Visulaise the data"
   ]
  },
  {
   "cell_type": "code",
   "execution_count": 41,
   "id": "5886141f-d667-4a92-a6c8-c93ba8958b1c",
   "metadata": {},
   "outputs": [
    {
     "data": {
      "image/png": "[encoded data removed]",
      "text/plain": [
       "<Figure size 1200x500 with 2 Axes>"
      ]
     },
     "metadata": {},
     "output_type": "display_data"
    }
   ],
   "source": [
    "plt.figure(figsize=(12, 5))\n",
    "\n",
    "# Left subplot: Experience distribution\n",
    "plt.subplot(1, 2, 1)\n",
    "data[\"exp(in months)\"].hist(bins=20, color=\"skyblue\", edgecolor=\"black\")\n",
    "plt.title(\"Experience Distribution\")\n",
    "plt.xlabel(\"Experience (in months)\")\n",
    "plt.ylabel(\"Frequency\")\n",
    "\n",
    "# Right subplot: Salary distribution\n",
    "plt.subplot(1, 2, 2)\n",
    "data[\"salary(in thousands)\"].hist(bins=20, color=\"salmon\", edgecolor=\"black\")\n",
    "plt.title(\"Salary Distribution\")\n",
    "plt.xlabel(\"Salary (in thousands)\")\n",
    "plt.ylabel(\"Frequency\")\n",
    "\n",
    "plt.tight_layout()\n",
    "plt.show()"
   ]
  },
  {
   "cell_type": "markdown",
   "id": "d321a765-aad1-4d22-b412-f31d19478d0a",
   "metadata": {},
   "source": [
    "Both the columns have normal destribution"
   ]
  },
  {
   "cell_type": "code",
   "execution_count": 38,
   "id": "a192929a-1a08-4570-9a07-c940cdcceefd",
   "metadata": {},
   "outputs": [
    {
     "data": {
      "image/png": "[encoded data removed]",
      "text/plain": [
       "<Figure size 800x500 with 1 Axes>"
      ]
     },
     "metadata": {},
     "output_type": "display_data"
    }
   ],
   "source": [
    "plt.figure(figsize=(8, 5))\n",
    "plt.scatter(data[\"exp(in months)\"], data[\"salary(in thousands)\"], color=\"teal\", alpha=0.6)\n",
    "plt.title(\"Experience vs Salary\")\n",
    "plt.xlabel(\"Experience (in months)\")\n",
    "plt.ylabel(\"Salary (in thousands)\")\n",
    "plt.grid(True)\n",
    "plt.show()"
   ]
  },
  {
   "cell_type": "markdown",
   "id": "8f78f26b-a8d6-4927-8fa0-c2d670dfbcaf",
   "metadata": {},
   "source": [
    "Clearly we can see the linear trend. That’s great for Linear Regression."
   ]
  },
  {
   "cell_type": "markdown",
   "id": "53f37454-6f85-4eca-992d-a903241e6c34",
   "metadata": {},
   "source": [
    "## Train Linear Regression model"
   ]
  },
  {
   "cell_type": "markdown",
   "id": "22842dbd-f2c0-4f89-975e-85831bd23408",
   "metadata": {},
   "source": [
    "### Split data into train & test"
   ]
  },
  {
   "cell_type": "code",
   "execution_count": 42,
   "id": "2694aaa1-e61c-4c3b-92db-0ed2df0e94cb",
   "metadata": {},
   "outputs": [
    {
     "name": "stdout",
     "output_type": "stream",
     "text": [
      "Train size: 900 samples\n",
      "Test size: 100 samples\n"
     ]
    }
   ],
   "source": [
    "# Features (X) and Target (y)\n",
    "X = data[[\"exp(in months)\"]]\n",
    "y = data[\"salary(in thousands)\"]\n",
    "\n",
    "# Split into 90% training and 10% testing\n",
    "X_train, X_test, y_train, y_test = train_test_split(X, y, test_size=0.1, random_state=42)\n",
    "\n",
    "# checking sizes\n",
    "print(f\"Train size: {X_train.shape[0]} samples\")\n",
    "print(f\"Test size: {X_test.shape[0]} samples\")"
   ]
  },
  {
   "cell_type": "markdown",
   "id": "dcfc380f-8771-4e6b-ba35-1d7bc84c2c84",
   "metadata": {},
   "source": [
    "### Train Linear regression on train data"
   ]
  },
  {
   "cell_type": "code",
   "execution_count": 43,
   "id": "aa168bd1-959d-4d04-9c18-426dfdb8f612",
   "metadata": {},
   "outputs": [
    {
     "data": {
      "text/html": [
       "<style>#sk-container-id-1 {\n",
       "  /* Definition of color scheme common for light and dark mode */\n",
       "  --sklearn-color-text: #000;\n",
       "  --sklearn-color-text-muted: #666;\n",
       "  --sklearn-color-line: gray;\n",
       "  /* Definition of color scheme for unfitted estimators */\n",
       "  --sklearn-color-unfitted-level-0: #fff5e6;\n",
       "  --sklearn-color-unfitted-level-1: #f6e4d2;\n",
       "  --sklearn-color-unfitted-level-2: #ffe0b3;\n",
       "  --sklearn-color-unfitted-level-3: chocolate;\n",
       "  /* Definition of color scheme for fitted estimators */\n",
       "  --sklearn-color-fitted-level-0: #f0f8ff;\n",
       "  --sklearn-color-fitted-level-1: #d4ebff;\n",
       "  --sklearn-color-fitted-level-2: #b3dbfd;\n",
       "  --sklearn-color-fitted-level-3: cornflowerblue;\n",
       "\n",
       "  /* Specific color for light theme */\n",
       "  --sklearn-color-text-on-default-background: var(--sg-text-color, var(--theme-code-foreground, var(--jp-content-font-color1, black)));\n",
       "  --sklearn-color-background: var(--sg-background-color, var(--theme-background, var(--jp-layout-color0, white)));\n",
       "  --sklearn-color-border-box: var(--sg-text-color, var(--theme-code-foreground, var(--jp-content-font-color1, black)));\n",
       "  --sklearn-color-icon: #696969;\n",
       "\n",
       "  @media (prefers-color-scheme: dark) {\n",
       "    /* Redefinition of color scheme for dark theme */\n",
       "    --sklearn-color-text-on-default-background: var(--sg-text-color, var(--theme-code-foreground, var(--jp-content-font-color1, white)));\n",
       "    --sklearn-color-background: var(--sg-background-color, var(--theme-background, var(--jp-layout-color0, #111)));\n",
       "    --sklearn-color-border-box: var(--sg-text-color, var(--theme-code-foreground, var(--jp-content-font-color1, white)));\n",
       "    --sklearn-color-icon: #878787;\n",
       "  }\n",
       "}\n",
       "\n",
       "#sk-container-id-1 {\n",
       "  color: var(--sklearn-color-text);\n",
       "}\n",
       "\n",
       "#sk-container-id-1 pre {\n",
       "  padding: 0;\n",
       "}\n",
       "\n",
       "#sk-container-id-1 input.sk-hidden--visually {\n",
       "  border: 0;\n",
       "  clip: rect(1px 1px 1px 1px);\n",
       "  clip: rect(1px, 1px, 1px, 1px);\n",
       "  height: 1px;\n",
       "  margin: -1px;\n",
       "  overflow: hidden;\n",
       "  padding: 0;\n",
       "  position: absolute;\n",
       "  width: 1px;\n",
       "}\n",
       "\n",
       "#sk-container-id-1 div.sk-dashed-wrapped {\n",
       "  border: 1px dashed var(--sklearn-color-line);\n",
       "  margin: 0 0.4em 0.5em 0.4em;\n",
       "  box-sizing: border-box;\n",
       "  padding-bottom: 0.4em;\n",
       "  background-color: var(--sklearn-color-background);\n",
       "}\n",
       "\n",
       "#sk-container-id-1 div.sk-container {\n",
       "  /* jupyter's `normalize.less` sets `[hidden] { display: none; }`\n",
       "     but bootstrap.min.css set `[hidden] { display: none !important; }`\n",
       "     so we also need the `!important` here to be able to override the\n",
       "     default hidden behavior on the sphinx rendered scikit-learn.org.\n",
       "     See: https://github.com/scikit-learn/scikit-learn/issues/21755 */\n",
       "  display: inline-block !important;\n",
       "  position: relative;\n",
       "}\n",
       "\n",
       "#sk-container-id-1 div.sk-text-repr-fallback {\n",
       "  display: none;\n",
       "}\n",
       "\n",
       "div.sk-parallel-item,\n",
       "div.sk-serial,\n",
       "div.sk-item {\n",
       "  /* draw centered vertical line to link estimators */\n",
       "  background-image: linear-gradient(var(--sklearn-color-text-on-default-background), var(--sklearn-color-text-on-default-background));\n",
       "  background-size: 2px 100%;\n",
       "  background-repeat: no-repeat;\n",
       "  background-position: center center;\n",
       "}\n",
       "\n",
       "/* Parallel-specific style estimator block */\n",
       "\n",
       "#sk-container-id-1 div.sk-parallel-item::after {\n",
       "  content: \"\";\n",
       "  width: 100%;\n",
       "  border-bottom: 2px solid var(--sklearn-color-text-on-default-background);\n",
       "  flex-grow: 1;\n",
       "}\n",
       "\n",
       "#sk-container-id-1 div.sk-parallel {\n",
       "  display: flex;\n",
       "  align-items: stretch;\n",
       "  justify-content: center;\n",
       "  background-color: var(--sklearn-color-background);\n",
       "  position: relative;\n",
       "}\n",
       "\n",
       "#sk-container-id-1 div.sk-parallel-item {\n",
       "  display: flex;\n",
       "  flex-direction: column;\n",
       "}\n",
       "\n",
       "#sk-container-id-1 div.sk-parallel-item:first-child::after {\n",
       "  align-self: flex-end;\n",
       "  width: 50%;\n",
       "}\n",
       "\n",
       "#sk-container-id-1 div.sk-parallel-item:last-child::after {\n",
       "  align-self: flex-start;\n",
       "  width: 50%;\n",
       "}\n",
       "\n",
       "#sk-container-id-1 div.sk-parallel-item:only-child::after {\n",
       "  width: 0;\n",
       "}\n",
       "\n",
       "/* Serial-specific style estimator block */\n",
       "\n",
       "#sk-container-id-1 div.sk-serial {\n",
       "  display: flex;\n",
       "  flex-direction: column;\n",
       "  align-items: center;\n",
       "  background-color: var(--sklearn-color-background);\n",
       "  padding-right: 1em;\n",
       "  padding-left: 1em;\n",
       "}\n",
       "\n",
       "\n",
       "/* Toggleable style: style used for estimator/Pipeline/ColumnTransformer box that is\n",
       "clickable and can be expanded/collapsed.\n",
       "- Pipeline and ColumnTransformer use this feature and define the default style\n",
       "- Estimators will overwrite some part of the style using the `sk-estimator` class\n",
       "*/\n",
       "\n",
       "/* Pipeline and ColumnTransformer style (default) */\n",
       "\n",
       "#sk-container-id-1 div.sk-toggleable {\n",
       "  /* Default theme specific background. It is overwritten whether we have a\n",
       "  specific estimator or a Pipeline/ColumnTransformer */\n",
       "  background-color: var(--sklearn-color-background);\n",
       "}\n",
       "\n",
       "/* Toggleable label */\n",
       "#sk-container-id-1 label.sk-toggleable__label {\n",
       "  cursor: pointer;\n",
       "  display: flex;\n",
       "  width: 100%;\n",
       "  margin-bottom: 0;\n",
       "  padding: 0.5em;\n",
       "  box-sizing: border-box;\n",
       "  text-align: center;\n",
       "  align-items: start;\n",
       "  justify-content: space-between;\n",
       "  gap: 0.5em;\n",
       "}\n",
       "\n",
       "#sk-container-id-1 label.sk-toggleable__label .caption {\n",
       "  font-size: 0.6rem;\n",
       "  font-weight: lighter;\n",
       "  color: var(--sklearn-color-text-muted);\n",
       "}\n",
       "\n",
       "#sk-container-id-1 label.sk-toggleable__label-arrow:before {\n",
       "  /* Arrow on the left of the label */\n",
       "  content: \"▸\";\n",
       "  float: left;\n",
       "  margin-right: 0.25em;\n",
       "  color: var(--sklearn-color-icon);\n",
       "}\n",
       "\n",
       "#sk-container-id-1 label.sk-toggleable__label-arrow:hover:before {\n",
       "  color: var(--sklearn-color-text);\n",
       "}\n",
       "\n",
       "/* Toggleable content - dropdown */\n",
       "\n",
       "#sk-container-id-1 div.sk-toggleable__content {\n",
       "  max-height: 0;\n",
       "  max-width: 0;\n",
       "  overflow: hidden;\n",
       "  text-align: left;\n",
       "  /* unfitted */\n",
       "  background-color: var(--sklearn-color-unfitted-level-0);\n",
       "}\n",
       "\n",
       "#sk-container-id-1 div.sk-toggleable__content.fitted {\n",
       "  /* fitted */\n",
       "  background-color: var(--sklearn-color-fitted-level-0);\n",
       "}\n",
       "\n",
       "#sk-container-id-1 div.sk-toggleable__content pre {\n",
       "  margin: 0.2em;\n",
       "  border-radius: 0.25em;\n",
       "  color: var(--sklearn-color-text);\n",
       "  /* unfitted */\n",
       "  background-color: var(--sklearn-color-unfitted-level-0);\n",
       "}\n",
       "\n",
       "#sk-container-id-1 div.sk-toggleable__content.fitted pre {\n",
       "  /* unfitted */\n",
       "  background-color: var(--sklearn-color-fitted-level-0);\n",
       "}\n",
       "\n",
       "#sk-container-id-1 input.sk-toggleable__control:checked~div.sk-toggleable__content {\n",
       "  /* Expand drop-down */\n",
       "  max-height: 200px;\n",
       "  max-width: 100%;\n",
       "  overflow: auto;\n",
       "}\n",
       "\n",
       "#sk-container-id-1 input.sk-toggleable__control:checked~label.sk-toggleable__label-arrow:before {\n",
       "  content: \"▾\";\n",
       "}\n",
       "\n",
       "/* Pipeline/ColumnTransformer-specific style */\n",
       "\n",
       "#sk-container-id-1 div.sk-label input.sk-toggleable__control:checked~label.sk-toggleable__label {\n",
       "  color: var(--sklearn-color-text);\n",
       "  background-color: var(--sklearn-color-unfitted-level-2);\n",
       "}\n",
       "\n",
       "#sk-container-id-1 div.sk-label.fitted input.sk-toggleable__control:checked~label.sk-toggleable__label {\n",
       "  background-color: var(--sklearn-color-fitted-level-2);\n",
       "}\n",
       "\n",
       "/* Estimator-specific style */\n",
       "\n",
       "/* Colorize estimator box */\n",
       "#sk-container-id-1 div.sk-estimator input.sk-toggleable__control:checked~label.sk-toggleable__label {\n",
       "  /* unfitted */\n",
       "  background-color: var(--sklearn-color-unfitted-level-2);\n",
       "}\n",
       "\n",
       "#sk-container-id-1 div.sk-estimator.fitted input.sk-toggleable__control:checked~label.sk-toggleable__label {\n",
       "  /* fitted */\n",
       "  background-color: var(--sklearn-color-fitted-level-2);\n",
       "}\n",
       "\n",
       "#sk-container-id-1 div.sk-label label.sk-toggleable__label,\n",
       "#sk-container-id-1 div.sk-label label {\n",
       "  /* The background is the default theme color */\n",
       "  color: var(--sklearn-color-text-on-default-background);\n",
       "}\n",
       "\n",
       "/* On hover, darken the color of the background */\n",
       "#sk-container-id-1 div.sk-label:hover label.sk-toggleable__label {\n",
       "  color: var(--sklearn-color-text);\n",
       "  background-color: var(--sklearn-color-unfitted-level-2);\n",
       "}\n",
       "\n",
       "/* Label box, darken color on hover, fitted */\n",
       "#sk-container-id-1 div.sk-label.fitted:hover label.sk-toggleable__label.fitted {\n",
       "  color: var(--sklearn-color-text);\n",
       "  background-color: var(--sklearn-color-fitted-level-2);\n",
       "}\n",
       "\n",
       "/* Estimator label */\n",
       "\n",
       "#sk-container-id-1 div.sk-label label {\n",
       "  font-family: monospace;\n",
       "  font-weight: bold;\n",
       "  display: inline-block;\n",
       "  line-height: 1.2em;\n",
       "}\n",
       "\n",
       "#sk-container-id-1 div.sk-label-container {\n",
       "  text-align: center;\n",
       "}\n",
       "\n",
       "/* Estimator-specific */\n",
       "#sk-container-id-1 div.sk-estimator {\n",
       "  font-family: monospace;\n",
       "  border: 1px dotted var(--sklearn-color-border-box);\n",
       "  border-radius: 0.25em;\n",
       "  box-sizing: border-box;\n",
       "  margin-bottom: 0.5em;\n",
       "  /* unfitted */\n",
       "  background-color: var(--sklearn-color-unfitted-level-0);\n",
       "}\n",
       "\n",
       "#sk-container-id-1 div.sk-estimator.fitted {\n",
       "  /* fitted */\n",
       "  background-color: var(--sklearn-color-fitted-level-0);\n",
       "}\n",
       "\n",
       "/* on hover */\n",
       "#sk-container-id-1 div.sk-estimator:hover {\n",
       "  /* unfitted */\n",
       "  background-color: var(--sklearn-color-unfitted-level-2);\n",
       "}\n",
       "\n",
       "#sk-container-id-1 div.sk-estimator.fitted:hover {\n",
       "  /* fitted */\n",
       "  background-color: var(--sklearn-color-fitted-level-2);\n",
       "}\n",
       "\n",
       "/* Specification for estimator info (e.g. \"i\" and \"?\") */\n",
       "\n",
       "/* Common style for \"i\" and \"?\" */\n",
       "\n",
       ".sk-estimator-doc-link,\n",
       "a:link.sk-estimator-doc-link,\n",
       "a:visited.sk-estimator-doc-link {\n",
       "  float: right;\n",
       "  font-size: smaller;\n",
       "  line-height: 1em;\n",
       "  font-family: monospace;\n",
       "  background-color: var(--sklearn-color-background);\n",
       "  border-radius: 1em;\n",
       "  height: 1em;\n",
       "  width: 1em;\n",
       "  text-decoration: none !important;\n",
       "  margin-left: 0.5em;\n",
       "  text-align: center;\n",
       "  /* unfitted */\n",
       "  border: var(--sklearn-color-unfitted-level-1) 1pt solid;\n",
       "  color: var(--sklearn-color-unfitted-level-1);\n",
       "}\n",
       "\n",
       ".sk-estimator-doc-link.fitted,\n",
       "a:link.sk-estimator-doc-link.fitted,\n",
       "a:visited.sk-estimator-doc-link.fitted {\n",
       "  /* fitted */\n",
       "  border: var(--sklearn-color-fitted-level-1) 1pt solid;\n",
       "  color: var(--sklearn-color-fitted-level-1);\n",
       "}\n",
       "\n",
       "/* On hover */\n",
       "div.sk-estimator:hover .sk-estimator-doc-link:hover,\n",
       ".sk-estimator-doc-link:hover,\n",
       "div.sk-label-container:hover .sk-estimator-doc-link:hover,\n",
       ".sk-estimator-doc-link:hover {\n",
       "  /* unfitted */\n",
       "  background-color: var(--sklearn-color-unfitted-level-3);\n",
       "  color: var(--sklearn-color-background);\n",
       "  text-decoration: none;\n",
       "}\n",
       "\n",
       "div.sk-estimator.fitted:hover .sk-estimator-doc-link.fitted:hover,\n",
       ".sk-estimator-doc-link.fitted:hover,\n",
       "div.sk-label-container:hover .sk-estimator-doc-link.fitted:hover,\n",
       ".sk-estimator-doc-link.fitted:hover {\n",
       "  /* fitted */\n",
       "  background-color: var(--sklearn-color-fitted-level-3);\n",
       "  color: var(--sklearn-color-background);\n",
       "  text-decoration: none;\n",
       "}\n",
       "\n",
       "/* Span, style for the box shown on hovering the info icon */\n",
       ".sk-estimator-doc-link span {\n",
       "  display: none;\n",
       "  z-index: 9999;\n",
       "  position: relative;\n",
       "  font-weight: normal;\n",
       "  right: .2ex;\n",
       "  padding: .5ex;\n",
       "  margin: .5ex;\n",
       "  width: min-content;\n",
       "  min-width: 20ex;\n",
       "  max-width: 50ex;\n",
       "  color: var(--sklearn-color-text);\n",
       "  box-shadow: 2pt 2pt 4pt #999;\n",
       "  /* unfitted */\n",
       "  background: var(--sklearn-color-unfitted-level-0);\n",
       "  border: .5pt solid var(--sklearn-color-unfitted-level-3);\n",
       "}\n",
       "\n",
       ".sk-estimator-doc-link.fitted span {\n",
       "  /* fitted */\n",
       "  background: var(--sklearn-color-fitted-level-0);\n",
       "  border: var(--sklearn-color-fitted-level-3);\n",
       "}\n",
       "\n",
       ".sk-estimator-doc-link:hover span {\n",
       "  display: block;\n",
       "}\n",
       "\n",
       "/* \"?\"-specific style due to the `<a>` HTML tag */\n",
       "\n",
       "#sk-container-id-1 a.estimator_doc_link {\n",
       "  float: right;\n",
       "  font-size: 1rem;\n",
       "  line-height: 1em;\n",
       "  font-family: monospace;\n",
       "  background-color: var(--sklearn-color-background);\n",
       "  border-radius: 1rem;\n",
       "  height: 1rem;\n",
       "  width: 1rem;\n",
       "  text-decoration: none;\n",
       "  /* unfitted */\n",
       "  color: var(--sklearn-color-unfitted-level-1);\n",
       "  border: var(--sklearn-color-unfitted-level-1) 1pt solid;\n",
       "}\n",
       "\n",
       "#sk-container-id-1 a.estimator_doc_link.fitted {\n",
       "  /* fitted */\n",
       "  border: var(--sklearn-color-fitted-level-1) 1pt solid;\n",
       "  color: var(--sklearn-color-fitted-level-1);\n",
       "}\n",
       "\n",
       "/* On hover */\n",
       "#sk-container-id-1 a.estimator_doc_link:hover {\n",
       "  /* unfitted */\n",
       "  background-color: var(--sklearn-color-unfitted-level-3);\n",
       "  color: var(--sklearn-color-background);\n",
       "  text-decoration: none;\n",
       "}\n",
       "\n",
       "#sk-container-id-1 a.estimator_doc_link.fitted:hover {\n",
       "  /* fitted */\n",
       "  background-color: var(--sklearn-color-fitted-level-3);\n",
       "}\n",
       "</style><div id=\"sk-container-id-1\" class=\"sk-top-container\"><div class=\"sk-text-repr-fallback\"><pre>LinearRegression()</pre><b>In a Jupyter environment, please rerun this cell to show the HTML representation or trust the notebook. <br />On GitHub, the HTML representation is unable to render, please try loading this page with nbviewer.org.</b></div><div class=\"sk-container\" hidden><div class=\"sk-item\"><div class=\"sk-estimator fitted sk-toggleable\"><input class=\"sk-toggleable__control sk-hidden--visually\" id=\"sk-estimator-id-1\" type=\"checkbox\" checked><label for=\"sk-estimator-id-1\" class=\"sk-toggleable__label fitted sk-toggleable__label-arrow\"><div><div>LinearRegression</div></div><div><a class=\"sk-estimator-doc-link fitted\" rel=\"noreferrer\" target=\"_blank\" href=\"https://scikit-learn.org/1.6/modules/generated/sklearn.linear_model.LinearRegression.html\">?<span>Documentation for LinearRegression</span></a><span class=\"sk-estimator-doc-link fitted\">i<span>Fitted</span></span></div></label><div class=\"sk-toggleable__content fitted\"><pre>LinearRegression()</pre></div> </div></div></div></div>"
      ],
      "text/plain": [
       "LinearRegression()"
      ]
     },
     "execution_count": 43,
     "metadata": {},
     "output_type": "execute_result"
    }
   ],
   "source": [
    "# Create the model\n",
    "model = LinearRegression()\n",
    "\n",
    "# Fit the model on training data\n",
    "model.fit(X_train, y_train)"
   ]
  },
  {
   "cell_type": "markdown",
   "id": "27b222d7-f264-480a-ba2a-f23c910d3a83",
   "metadata": {},
   "source": [
    "### Predicting on test data"
   ]
  },
  {
   "cell_type": "code",
   "execution_count": 44,
   "id": "47794b3c-cb1c-4bde-b0d6-ff8a726e80d2",
   "metadata": {},
   "outputs": [],
   "source": [
    "# Predict salaries using the test set\n",
    "y_pred = model.predict(X_test)"
   ]
  },
  {
   "cell_type": "code",
   "execution_count": 46,
   "id": "9dfc3228-db74-4916-be9e-7a714481ef4d",
   "metadata": {},
   "outputs": [
    {
     "name": "stdout",
     "output_type": "stream",
     "text": [
      "   Experience (months)  Actual Salary (k)  Predicted Salary (k)\n",
      "0                   37               25.3                  35.8\n",
      "1                   18               22.4                  20.0\n",
      "2                   45               43.4                  42.4\n",
      "3                   34               30.2                  33.3\n",
      "4                   16               22.0                  18.3\n",
      "5                   24               18.0                  25.0\n",
      "6                   25               24.2                  25.8\n",
      "7                   24               27.1                  25.0\n",
      "8                   49               42.6                  45.8\n",
      "9                   24               27.8                  25.0\n"
     ]
    }
   ],
   "source": [
    "results = pd.DataFrame({\n",
    "    \"Experience (months)\": X_test[\"exp(in months)\"].values,\n",
    "    \"Actual Salary (k)\": y_test.values,\n",
    "    \"Predicted Salary (k)\": y_pred.round(1)\n",
    "})\n",
    "\n",
    "print(results.head(10))"
   ]
  },
  {
   "cell_type": "markdown",
   "id": "8dc48f9e-6e1b-45b8-b2c3-d4e05a8c6212",
   "metadata": {},
   "source": [
    "### Visualise the regression line on Salary vs Experience"
   ]
  },
  {
   "cell_type": "code",
   "execution_count": 53,
   "id": "98e9f9da-892e-4eea-868f-2881ddbd9955",
   "metadata": {},
   "outputs": [
    {
     "data": {
      "image/png": "[encoded data removed]",
      "text/plain": [
       "<Figure size 800x500 with 1 Axes>"
      ]
     },
     "metadata": {},
     "output_type": "display_data"
    }
   ],
   "source": [
    "plt.figure(figsize=(8, 5))\n",
    "\n",
    "# Plot actual data points\n",
    "plt.scatter(X_test, y_test, color='skyblue', label='Actual', alpha=0.6)\n",
    "\n",
    "# Plot the regression line\n",
    "# Sort values for a clean line\n",
    "X_sorted = np.sort(X_test.values.reshape(-1, 1), axis=0)\n",
    "y_pred_line = model.predict(X_sorted)\n",
    "plt.plot(X_sorted, y_pred_line, color='red', linewidth=2, label='Regression Line')\n",
    "\n",
    "plt.title(\"Experience vs Salary with Regression Line\")\n",
    "plt.xlabel(\"Experience (in months)\")\n",
    "plt.ylabel(\"Salary (in thousands)\")\n",
    "plt.legend()\n",
    "plt.grid(True)\n",
    "plt.show()"
   ]
  },
  {
   "cell_type": "markdown",
   "id": "86fdcb62-9b72-4434-be82-df0f49174a52",
   "metadata": {},
   "source": [
    "## Evaluate the model"
   ]
  },
  {
   "cell_type": "code",
   "execution_count": 51,
   "id": "a8b5321e-cf97-4ec8-bb2f-e936ef195daf",
   "metadata": {},
   "outputs": [
    {
     "name": "stdout",
     "output_type": "stream",
     "text": [
      "Mean Absolute Error (MAE): 4.00\n",
      "Mean Squared Error (MSE): 25.30\n",
      "Root Mean Squared Error (RMSE): 5.03\n",
      "R² Score: 0.6264\n"
     ]
    }
   ],
   "source": [
    "# Mean Absolute Error (MAE)\n",
    "mae = mean_absolute_error(y_test, y_pred)\n",
    "\n",
    "# Mean Squared Error (MSE)\n",
    "mse = mean_squared_error(y_test, y_pred)\n",
    "\n",
    "# Root Mean Squared Error (RMSE)\n",
    "rmse = np.sqrt(mse)\n",
    "\n",
    "# R² Score\n",
    "r2 = r2_score(y_test, y_pred)\n",
    "\n",
    "# Print all\n",
    "print(f\"Mean Absolute Error (MAE): {mae:.2f}\")\n",
    "print(f\"Mean Squared Error (MSE): {mse:.2f}\")\n",
    "print(f\"Root Mean Squared Error (RMSE): {rmse:.2f}\")\n",
    "print(f\"R² Score: {r2:.4f}\")"
   ]
  },
  {
   "cell_type": "markdown",
   "id": "213792af-1a55-4d6e-b5b4-69f285d60102",
   "metadata": {},
   "source": [
    "- **MAE (4.00)**\n",
    "On average, model’s salary predictions are off by about **4,000** (since salary is in thousands).\n",
    "\n",
    "- **MSE (25.30)** and **RMSE (5.03)**\n",
    "RMSE gives more weight to larger errors — so about **5,000** deviation on average.\n",
    "\n",
    "- **R² Score (0.6264)**\n",
    "Model explains **62.6%** of the variation in salaries using just **experience in months**."
   ]
  },
  {
   "cell_type": "markdown",
   "id": "7ddf9c53-9e6c-4436-a732-5ddb0dcb51e9",
   "metadata": {},
   "source": [
    "## Conclusion"
   ]
  },
  {
   "cell_type": "markdown",
   "id": "fc07411c-7da7-4f5e-a935-bba8b0eb23fd",
   "metadata": {},
   "source": [
    "In this project, we worked with a simulated dataset resembling historical employee records, where the goal was to predict salaries based on years of experience. Imagine this scenario within an HR analytics team at a hiring consultancy firm — the firm needs a simple and effective tool to estimate salary expectations for new candidates using existing employee data.\n",
    "\n",
    "We built a linear regression model that learned the relationship between experience (in months) and salary (in thousands). After training and evaluating the model on 1,000 records, we achieved an **R² score of 0.6264**, indicating the model could explain over **62%** of the variation in salary using just one feature. With an **average prediction error of about 4,000**, the model provides a solid baseline for salary estimation.\n",
    "\n",
    "This project demonstrates how even a simple regression model can be used by HR teams to support fair and data-driven salary offers, improve budgeting accuracy, and streamline hiring processes."
   ]
  },
  {
   "cell_type": "markdown",
   "id": "adb34fba-f85e-4e60-87c9-22e0724e8981",
   "metadata": {},
   "source": [
    "# Author: Rohan Das\n",
    "\n",
    "**Junior Engineer at CloudxLab | Alumni of Vivekananda Global University**\n",
    "\n",
    "*Jaipur, Rajasthan, India*  \n",
    "📧 Email: [rd555217@gmail.com](mailto:rd555217@gmail.com)  \n",
    "💻 GitHub: [ROHANDAS2003](https://github.com/ROHANDAS2003)  \n",
    "🌐 Portfolio: [rohandas2003.com](https://www.rohandas2003.com/)<br>\n",
    "🌳 Linktree: [mr_RohanDas](https://linktr.ee/mr_RohanDas)\n",
    "\n",
    "<img src=\"https://ugc.production.linktr.ee/f9907aa7-25b0-4295-87cb-e88460e512ce_myimage1.png?io=true&size=avatar-v3_0\" width=\"200\" height=\"200\" alt=\"Rohan Das\">\n",
    "\n",
    "---\n",
    "\n",
    "## About Me\n",
    "\n",
    "Hello! I'm Rohan Das, a passionate AI & ML enthusiast, Python developer, and full-stack web developer. With a strong foundation in computer applications and hands-on experience in various technologies, I am committed to continuous learning and innovation.\n",
    "\n",
    "---\n",
    "\n",
    "## Skills\n",
    "\n",
    "- **Programming Languages:** ML Basic, Python, SQL, Full-stack web development  \n",
    "- **Frameworks & Libraries:** Django, Numpy, Pandas, Matplotlib  \n",
    "- **Tools & Platforms:** Linux, Git, GitHub  \n",
    "\n",
    "---\n",
    "\n",
    "## Let's Connect\n",
    "\n",
    "I'm always open to new opportunities and collaborations. Feel free to reach out to me via email or connect with me on LinkedIn.\n",
    "\n",
    "[![LinkedIn](https://img.shields.io/badge/LinkedIn-RohanDas-blue)](https://www.linkedin.com/in/mr-rohandas/)\n",
    "\n",
    "---\n",
    "\n",
    "*Last updated: April 5, 2025*\n"
   ]
  }
 ],
 "metadata": {
  "kernelspec": {
   "display_name": "Python 3 (ipykernel)",
   "language": "python",
   "name": "python3"
  },
  "language_info": {
   "codemirror_mode": {
    "name": "ipython",
    "version": 3
   },
   "file_extension": ".py",
   "mimetype": "text/x-python",
   "name": "python",
   "nbconvert_exporter": "python",
   "pygments_lexer": "ipython3",
   "version": "3.13.2"
  }
 },
 "nbformat": 4,
 "nbformat_minor": 5
}
