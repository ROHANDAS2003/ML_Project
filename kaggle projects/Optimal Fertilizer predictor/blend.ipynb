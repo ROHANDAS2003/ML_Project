{
 "cells": [
  {
   "cell_type": "code",
   "execution_count": 6,
   "id": "9846fd77-ccd6-42d6-92bc-b58ef940aa5c",
   "metadata": {},
   "outputs": [],
   "source": [
    "import pandas as pd\n",
    "from collections import Counter\n",
    "\n",
    "# File paths\n",
    "files = {\n",
    "    \"res1\": \"./submission/res1.csv\",\n",
    "    \"res2\": \"./submission/res2.csv\",\n",
    "    \"res3\": \"./submission/res3.csv\",  # fallback\n",
    "    \"res4\": \"./submission/res4.csv\",\n",
    "    \"res5\": \"./submission/res5.csv\"\n",
    "}\n"
   ]
  },
  {
   "cell_type": "code",
   "execution_count": 1,
   "id": "672c6c5d-b58a-45e9-a2ec-e231907cc3bf",
   "metadata": {},
   "outputs": [
    {
     "name": "stdout",
     "output_type": "stream",
     "text": [
      "✅ Blending complete. Output: final_submission.csv\n"
     ]
    }
   ],
   "source": [
    "\n",
    "# Load predictions into one DataFrame\n",
    "dfs = []\n",
    "for name, path in files.items():\n",
    "    df = pd.read_csv(path).rename(columns={\"Fertilizer Name\": name})\n",
    "    dfs.append(df)\n",
    "\n",
    "# Merge on 'id'\n",
    "df_merged = dfs[0]\n",
    "for df in dfs[1:]:\n",
    "    df_merged = df_merged.merge(df, on=\"id\")\n",
    "\n",
    "# Blending logic\n",
    "def get_consensus(row):\n",
    "    preds = [row[m] for m in files.keys()]\n",
    "    count = Counter(preds)\n",
    "\n",
    "    for threshold in [5, 4, 3]:\n",
    "        for pred, cnt in count.items():\n",
    "            if cnt >= threshold:\n",
    "                return pred\n",
    "\n",
    "    # Fallback to res3 prediction\n",
    "    return row[\"res3\"]\n",
    "\n",
    "# Apply blending\n",
    "df_merged[\"Fertilizer Name\"] = df_merged.apply(get_consensus, axis=1)\n",
    "\n",
    "# Final submission\n",
    "submission = df_merged[[\"id\", \"Fertilizer Name\"]]\n",
    "submission.to_csv(\"final_submission.csv\", index=False)\n",
    "\n",
    "print(\"✅ Blending complete. Output: final_submission.csv\")\n"
   ]
  },
  {
   "cell_type": "code",
   "execution_count": 7,
   "id": "1a2e31ec-4fa5-4c57-b4ef-e55f477cc07b",
   "metadata": {},
   "outputs": [
    {
     "name": "stdout",
     "output_type": "stream",
     "text": [
      "✅ Clean submission file saved as final_submission.csv\n"
     ]
    }
   ],
   "source": [
    "\n",
    "# === Load and normalize predictions ===\n",
    "dfs = []\n",
    "for name, path in files.items():\n",
    "    df = pd.read_csv(path)\n",
    "    df[\"Fertilizer Name\"] = df[\"Fertilizer Name\"].apply(lambda x: ' '.join(sorted(x.split())))\n",
    "    df = df.rename(columns={\"Fertilizer Name\": name})\n",
    "    dfs.append(df)\n",
    "\n",
    "# === Merge all predictions on 'id' ===\n",
    "df_merged = dfs[0]\n",
    "for df in dfs[1:]:\n",
    "    df_merged = df_merged.merge(df, on=\"id\")\n",
    "\n",
    "# === Voting logic ===\n",
    "def get_consensus(row):\n",
    "    preds = [row[m] for m in files.keys()]\n",
    "    count = Counter(preds)\n",
    "\n",
    "    for threshold in [5, 4, 3]:\n",
    "        for pred, cnt in count.items():\n",
    "            if cnt >= threshold:\n",
    "                return pred\n",
    "    return row[\"res3\"]  # fallback\n",
    "\n",
    "# Apply consensus logic\n",
    "df_merged[\"Fertilizer Name\"] = df_merged.apply(get_consensus, axis=1)\n",
    "\n",
    "# === Final output ===\n",
    "final_submission = df_merged[[\"id\", \"Fertilizer Name\"]]\n",
    "final_submission.to_csv(\"final_submission1.csv\", index=False)\n",
    "\n",
    "print(\"✅ Clean submission file saved as final_submission.csv\")\n"
   ]
  },
  {
   "cell_type": "code",
   "execution_count": null,
   "id": "e99bb994-7f27-4001-a778-87ec1d5b0f90",
   "metadata": {},
   "outputs": [],
   "source": []
  }
 ],
 "metadata": {
  "kernelspec": {
   "display_name": "Python (TF)",
   "language": "python",
   "name": "tfenv"
  },
  "language_info": {
   "codemirror_mode": {
    "name": "ipython",
    "version": 3
   },
   "file_extension": ".py",
   "mimetype": "text/x-python",
   "name": "python",
   "nbconvert_exporter": "python",
   "pygments_lexer": "ipython3",
   "version": "3.10.17"
  }
 },
 "nbformat": 4,
 "nbformat_minor": 5
}
