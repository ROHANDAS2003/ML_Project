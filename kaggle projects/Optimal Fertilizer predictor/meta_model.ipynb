{
 "cells": [
  {
   "cell_type": "code",
   "execution_count": null,
   "id": "92987b9b-10a5-4d5d-b530-31286ba102b8",
   "metadata": {},
   "outputs": [],
   "source": [
    "from sklearn.linear_model import LogisticRegression\n",
    "from sklearn.model_selection import train_test_split\n",
    "import numpy as np\n",
    "\n",
    "xg = pd.read_csv('./pred_probs/xgboost_pred_prob.csv').values\n",
    "xg3 = pd.read_csv('./pred_probs/3xgboost_prob.csv').values\n",
    "wxg = pd.read_csv('./pred_probs/w_xgboost_prob.csv').values\n",
    "\n",
    "# STEP 1: Stack predictions as meta-features\n",
    "X_meta_train = np.hstack([xg, xg3, wxg])\n",
    "X_meta_test = np.hstack([xg, xg3, wxg])\n",
    "\n",
    "# STEP 2: Train meta-classifier\n",
    "X_tr, X_val, y_tr, y_val = train_test_split(X_meta_train, y_train, test_size=0.2, stratify=y_train, random_state=42)\n",
    "\n",
    "meta_model = LogisticRegression(multi_class='multinomial', max_iter=1000)\n",
    "meta_model.fit(X_tr, y_tr)\n",
    "\n",
    "# STEP 3: Predict on test\n",
    "meta_probs = meta_model.predict_proba(X_meta_test)\n",
    "\n",
    "# STEP 4: Get top-3 labels\n",
    "top3_indices = np.argsort(meta_probs, axis=1)[:, -3:][:, ::-1]\n",
    "top3_labels = [' '.join(label_encoder.classes_[i] for i in row) for row in top3_indices]\n"
   ]
  }
 ],
 "metadata": {
  "kernelspec": {
   "display_name": "Python (TF)",
   "language": "python",
   "name": "tfenv"
  },
  "language_info": {
   "codemirror_mode": {
    "name": "ipython",
    "version": 3
   },
   "file_extension": ".py",
   "mimetype": "text/x-python",
   "name": "python",
   "nbconvert_exporter": "python",
   "pygments_lexer": "ipython3",
   "version": "3.10.17"
  }
 },
 "nbformat": 4,
 "nbformat_minor": 5
}
