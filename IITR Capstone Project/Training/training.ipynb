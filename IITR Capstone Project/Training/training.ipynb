{
 "cells": [
  {
   "cell_type": "code",
   "execution_count": 2,
   "id": "15bd7d11-27d8-4bd6-9376-2ebd28c9d26e",
   "metadata": {},
   "outputs": [
    {
     "data": {
      "text/html": [
       "<div>\n",
       "<style scoped>\n",
       "    .dataframe tbody tr th:only-of-type {\n",
       "        vertical-align: middle;\n",
       "    }\n",
       "\n",
       "    .dataframe tbody tr th {\n",
       "        vertical-align: top;\n",
       "    }\n",
       "\n",
       "    .dataframe thead th {\n",
       "        text-align: right;\n",
       "    }\n",
       "</style>\n",
       "<table border=\"1\" class=\"dataframe\">\n",
       "  <thead>\n",
       "    <tr style=\"text-align: right;\">\n",
       "      <th></th>\n",
       "      <th>timestamp</th>\n",
       "      <th>source</th>\n",
       "      <th>log_message</th>\n",
       "      <th>target_label</th>\n",
       "    </tr>\n",
       "  </thead>\n",
       "  <tbody>\n",
       "    <tr>\n",
       "      <th>0</th>\n",
       "      <td>2025-06-27 07:20:25</td>\n",
       "      <td>ModernCRM</td>\n",
       "      <td>nova.osapi_compute.wsgi.server [req-b9718cd8-f...</td>\n",
       "      <td>HTTP Status</td>\n",
       "    </tr>\n",
       "    <tr>\n",
       "      <th>1</th>\n",
       "      <td>1/14/2025 23:07</td>\n",
       "      <td>ModernCRM</td>\n",
       "      <td>Email service experiencing issues with sending</td>\n",
       "      <td>Critical Error</td>\n",
       "    </tr>\n",
       "    <tr>\n",
       "      <th>2</th>\n",
       "      <td>1/17/2025 1:29</td>\n",
       "      <td>AnalyticsEngine</td>\n",
       "      <td>Unauthorized access to data was attempted</td>\n",
       "      <td>Security Alert</td>\n",
       "    </tr>\n",
       "    <tr>\n",
       "      <th>3</th>\n",
       "      <td>2025-07-12 00:24:16</td>\n",
       "      <td>ModernHR</td>\n",
       "      <td>nova.osapi_compute.wsgi.server [req-4895c258-b...</td>\n",
       "      <td>HTTP Status</td>\n",
       "    </tr>\n",
       "    <tr>\n",
       "      <th>4</th>\n",
       "      <td>2025-06-02 18:25:23</td>\n",
       "      <td>BillingSystem</td>\n",
       "      <td>nova.osapi_compute.wsgi.server [req-ee8bc8ba-9...</td>\n",
       "      <td>HTTP Status</td>\n",
       "    </tr>\n",
       "  </tbody>\n",
       "</table>\n",
       "</div>"
      ],
      "text/plain": [
       "             timestamp           source  \\\n",
       "0  2025-06-27 07:20:25        ModernCRM   \n",
       "1      1/14/2025 23:07        ModernCRM   \n",
       "2       1/17/2025 1:29  AnalyticsEngine   \n",
       "3  2025-07-12 00:24:16         ModernHR   \n",
       "4  2025-06-02 18:25:23    BillingSystem   \n",
       "\n",
       "                                         log_message    target_label  \n",
       "0  nova.osapi_compute.wsgi.server [req-b9718cd8-f...     HTTP Status  \n",
       "1     Email service experiencing issues with sending  Critical Error  \n",
       "2          Unauthorized access to data was attempted  Security Alert  \n",
       "3  nova.osapi_compute.wsgi.server [req-4895c258-b...     HTTP Status  \n",
       "4  nova.osapi_compute.wsgi.server [req-ee8bc8ba-9...     HTTP Status  "
      ]
     },
     "execution_count": 2,
     "metadata": {},
     "output_type": "execute_result"
    }
   ],
   "source": [
    "import numpy as np\n",
    "import pandas as pd\n",
    "\n",
    "df = pd.read_csv(\"./Dataset/synthetic_logs.csv\")\n",
    "df.head()"
   ]
  },
  {
   "cell_type": "code",
   "execution_count": 3,
   "id": "4999a500-7e5a-4fa6-869e-4c9df7dc2934",
   "metadata": {},
   "outputs": [
    {
     "data": {
      "text/plain": [
       "array(['ModernCRM', 'AnalyticsEngine', 'ModernHR', 'BillingSystem',\n",
       "       'ThirdPartyAPI', 'LegacyCRM'], dtype=object)"
      ]
     },
     "execution_count": 3,
     "metadata": {},
     "output_type": "execute_result"
    }
   ],
   "source": [
    "df.source.unique()"
   ]
  },
  {
   "cell_type": "code",
   "execution_count": 4,
   "id": "4d515b1e-55fb-40ec-96a0-cb253f2450ee",
   "metadata": {},
   "outputs": [
    {
     "data": {
      "text/plain": [
       "array(['HTTP Status', 'Critical Error', 'Security Alert', 'Error',\n",
       "       'System Notification', 'Resource Usage', 'User Action',\n",
       "       'Workflow Error', 'Deprecation Warning'], dtype=object)"
      ]
     },
     "execution_count": 4,
     "metadata": {},
     "output_type": "execute_result"
    }
   ],
   "source": [
    "df.target_label.unique()"
   ]
  },
  {
   "cell_type": "code",
   "execution_count": 5,
   "id": "a8ee8192-bf8d-41f4-ba1b-2e336e8ee70e",
   "metadata": {},
   "outputs": [
    {
     "name": "stderr",
     "output_type": "stream",
     "text": [
      "/Users/rohandas/Documents/GitHub/ML_Project/jupyter_env/lib/python3.13/site-packages/tqdm/auto.py:21: TqdmWarning: IProgress not found. Please update jupyter and ipywidgets. See https://ipywidgets.readthedocs.io/en/stable/user_install.html\n",
      "  from .autonotebook import tqdm as notebook_tqdm\n"
     ]
    }
   ],
   "source": [
    "from sentence_transformers import SentenceTransformer\n",
    "from sklearn.cluster import DBSCAN"
   ]
  },
  {
   "cell_type": "code",
   "execution_count": 6,
   "id": "21c49436-d0ef-4e85-9f23-7d57daca47ec",
   "metadata": {},
   "outputs": [
    {
     "data": {
      "text/html": [
       "<div>\n",
       "<style scoped>\n",
       "    .dataframe tbody tr th:only-of-type {\n",
       "        vertical-align: middle;\n",
       "    }\n",
       "\n",
       "    .dataframe tbody tr th {\n",
       "        vertical-align: top;\n",
       "    }\n",
       "\n",
       "    .dataframe thead th {\n",
       "        text-align: right;\n",
       "    }\n",
       "</style>\n",
       "<table border=\"1\" class=\"dataframe\">\n",
       "  <thead>\n",
       "    <tr style=\"text-align: right;\">\n",
       "      <th></th>\n",
       "      <th>timestamp</th>\n",
       "      <th>source</th>\n",
       "      <th>log_message</th>\n",
       "      <th>target_label</th>\n",
       "      <th>clusters</th>\n",
       "    </tr>\n",
       "  </thead>\n",
       "  <tbody>\n",
       "    <tr>\n",
       "      <th>0</th>\n",
       "      <td>2025-06-27 07:20:25</td>\n",
       "      <td>ModernCRM</td>\n",
       "      <td>nova.osapi_compute.wsgi.server [req-b9718cd8-f...</td>\n",
       "      <td>HTTP Status</td>\n",
       "      <td>0</td>\n",
       "    </tr>\n",
       "    <tr>\n",
       "      <th>1</th>\n",
       "      <td>1/14/2025 23:07</td>\n",
       "      <td>ModernCRM</td>\n",
       "      <td>Email service experiencing issues with sending</td>\n",
       "      <td>Critical Error</td>\n",
       "      <td>1</td>\n",
       "    </tr>\n",
       "    <tr>\n",
       "      <th>2</th>\n",
       "      <td>1/17/2025 1:29</td>\n",
       "      <td>AnalyticsEngine</td>\n",
       "      <td>Unauthorized access to data was attempted</td>\n",
       "      <td>Security Alert</td>\n",
       "      <td>2</td>\n",
       "    </tr>\n",
       "    <tr>\n",
       "      <th>3</th>\n",
       "      <td>2025-07-12 00:24:16</td>\n",
       "      <td>ModernHR</td>\n",
       "      <td>nova.osapi_compute.wsgi.server [req-4895c258-b...</td>\n",
       "      <td>HTTP Status</td>\n",
       "      <td>0</td>\n",
       "    </tr>\n",
       "    <tr>\n",
       "      <th>4</th>\n",
       "      <td>2025-06-02 18:25:23</td>\n",
       "      <td>BillingSystem</td>\n",
       "      <td>nova.osapi_compute.wsgi.server [req-ee8bc8ba-9...</td>\n",
       "      <td>HTTP Status</td>\n",
       "      <td>0</td>\n",
       "    </tr>\n",
       "  </tbody>\n",
       "</table>\n",
       "</div>"
      ],
      "text/plain": [
       "             timestamp           source  \\\n",
       "0  2025-06-27 07:20:25        ModernCRM   \n",
       "1      1/14/2025 23:07        ModernCRM   \n",
       "2       1/17/2025 1:29  AnalyticsEngine   \n",
       "3  2025-07-12 00:24:16         ModernHR   \n",
       "4  2025-06-02 18:25:23    BillingSystem   \n",
       "\n",
       "                                         log_message    target_label  clusters  \n",
       "0  nova.osapi_compute.wsgi.server [req-b9718cd8-f...     HTTP Status         0  \n",
       "1     Email service experiencing issues with sending  Critical Error         1  \n",
       "2          Unauthorized access to data was attempted  Security Alert         2  \n",
       "3  nova.osapi_compute.wsgi.server [req-4895c258-b...     HTTP Status         0  \n",
       "4  nova.osapi_compute.wsgi.server [req-ee8bc8ba-9...     HTTP Status         0  "
      ]
     },
     "execution_count": 6,
     "metadata": {},
     "output_type": "execute_result"
    }
   ],
   "source": [
    "model =SentenceTransformer('all-MiniLm-L6-v2')\n",
    "embeddings = model.encode(df['log_message']).tolist()\n",
    "\n",
    "dbscan = DBSCAN(eps=0.2, min_samples=1, metric='cosine')\n",
    "clusters = dbscan.fit_predict(embeddings)\n",
    "\n",
    "df['clusters'] = clusters\n",
    "df.head()"
   ]
  },
  {
   "cell_type": "code",
   "execution_count": 7,
   "id": "6ee8b454-bd5b-4a7f-94b0-29f270256445",
   "metadata": {},
   "outputs": [
    {
     "name": "stdout",
     "output_type": "stream",
     "text": [
      "          timestamp          source                                                    log_message   target_label  clusters\n",
      "    3/10/2025 23:11 AnalyticsEngine  Alert: brute force login attempt from 192.168.80.114 detected Security Alert        12\n",
      "    1/22/2025 16:51        ModernHR Alert: brute force login attempt from 192.168.226.241 detected Security Alert        12\n",
      "      6/9/2025 6:37       ModernCRM     Brute force login detected from IP 192.168.237.105 address Security Alert        12\n",
      "      2/9/2025 7:08   BillingSystem     Brute force login detected from IP 192.168.246.138 address Security Alert        12\n",
      "    10/24/2025 5:18       ModernCRM      Brute force login detected from IP 192.168.174.13 address Security Alert        12\n",
      "    6/30/2025 22:15       ModernCRM Alert: brute force login attempt from 192.168.247.107 detected Security Alert        12\n",
      "2025-05-18 00:53:30       ModernCRM        Brute force login detected from IP 22.8.230.208 address Security Alert        12\n",
      "2025-05-18 00:53:30       ModernCRM       Brute force login detected from IP 160.172.48.62 address Security Alert        12\n",
      "2025-05-18 00:53:30       ModernCRM       Brute force login detected from IP 40.113.17.212 address Security Alert        12\n",
      "2025-05-18 00:53:30       ModernCRM      Brute force login detected from IP 190.249.92.160 address Security Alert        12\n",
      "2025-05-18 00:53:30       ModernCRM      Brute force login detected from IP 29.170.236.206 address Security Alert        12\n",
      "2025-05-18 00:53:31 AnalyticsEngine   Alert: brute force login attempt from 50.118.20.152 detected Security Alert        12\n",
      "2025-05-18 00:53:31   BillingSystem       Brute force login detected from IP 254.228.73.56 address Security Alert        12\n",
      "2025-05-18 00:53:31       ModernCRM       Brute force login detected from IP 155.159.54.27 address Security Alert        12\n",
      "2025-05-18 00:53:31   BillingSystem      Brute force login detected from IP 162.109.65.153 address Security Alert        12\n",
      "2025-05-18 00:53:31       ModernCRM     Brute force login detected from IP 148.239.125.249 address Security Alert        12\n",
      "2025-05-18 00:53:31        ModernHR  Alert: brute force login attempt from 232.75.255.218 detected Security Alert        12\n",
      "2025-05-18 00:53:31 AnalyticsEngine   Alert: brute force login attempt from 241.66.208.91 detected Security Alert        12\n",
      "2025-05-18 00:53:31 AnalyticsEngine  Alert: brute force login attempt from 52.182.111.232 detected Security Alert        12\n",
      "2025-05-18 00:53:31   BillingSystem     Brute force login detected from IP 114.234.158.208 address Security Alert        12\n"
     ]
    }
   ],
   "source": [
    "print(df[df.clusters==12][:].to_string(index=False))"
   ]
  },
  {
   "cell_type": "code",
   "execution_count": 8,
   "id": "2c58f983-cd7c-482d-a6c1-dd7dc998c79e",
   "metadata": {},
   "outputs": [
    {
     "name": "stdout",
     "output_type": "stream",
     "text": [
      "Alert: brute force login attempt from 192.168.8...\n",
      "Alert: brute force login attempt from 192.168.2...\n",
      "Brute force login detected from IP 192.168.237....\n",
      "Brute force login detected from IP 192.168.246....\n",
      "Brute force login detected from IP 192.168.174....\n",
      "Alert: brute force login attempt from 192.168.2...\n",
      "Brute force login detected from IP 22.8.230.208...\n",
      "Brute force login detected from IP 160.172.48.6...\n",
      "Brute force login detected from IP 40.113.17.21...\n",
      "Brute force login detected from IP 190.249.92.1...\n",
      "Brute force login detected from IP 29.170.236.2...\n",
      "Alert: brute force login attempt from 50.118.20...\n",
      "Brute force login detected from IP 254.228.73.5...\n",
      "Brute force login detected from IP 155.159.54.2...\n",
      "Brute force login detected from IP 162.109.65.1...\n",
      "Brute force login detected from IP 148.239.125....\n",
      "Alert: brute force login attempt from 232.75.25...\n",
      "Alert: brute force login attempt from 241.66.20...\n",
      "Alert: brute force login attempt from 52.182.11...\n",
      "Brute force login detected from IP 114.234.158....\n"
     ]
    }
   ],
   "source": [
    "print(df[df.clusters==12][:]['log_message'].to_string(index=False))"
   ]
  },
  {
   "cell_type": "code",
   "execution_count": 9,
   "id": "37360ad5-1cdc-4d41-82a1-72ee3ddfa302",
   "metadata": {},
   "outputs": [
    {
     "data": {
      "text/plain": [
       "array([  0,   1,   2,   3,   4,   5,   6,   7,   8,   9,  10,  11,  12,\n",
       "        13,  14,  15,  16,  17,  18,  19,  20,  21,  22,  23,  24,  25,\n",
       "        26,  27,  28,  29,  30,  31,  32,  33,  34,  35,  36,  37,  38,\n",
       "        39,  40,  41,  42,  43,  44,  45,  46,  47,  48,  49,  50,  51,\n",
       "        52,  53,  54,  55,  56,  57,  58,  59,  60,  61,  62,  63,  64,\n",
       "        65,  66,  67,  68,  69,  70,  71,  72,  73,  74,  75,  76,  77,\n",
       "        78,  79,  80,  81,  82,  83,  84,  85,  86,  87,  88,  89,  90,\n",
       "        91,  92,  93,  94,  95,  96,  97,  98,  99, 100, 101, 102, 103,\n",
       "       104, 105, 106, 107, 108, 109, 110, 111, 112, 113, 114, 115, 116,\n",
       "       117, 118, 119, 120, 121, 122, 123, 124, 125, 126, 127])"
      ]
     },
     "execution_count": 9,
     "metadata": {},
     "output_type": "execute_result"
    }
   ],
   "source": [
    "df.clusters.unique()"
   ]
  },
  {
   "cell_type": "code",
   "execution_count": 10,
   "id": "dd666c40-73f7-4aa6-b760-5345561feaff",
   "metadata": {
    "scrolled": true
   },
   "outputs": [
    {
     "name": "stdout",
     "output_type": "stream",
     "text": [
      "cluster: 0:\n",
      "           nova.osapi_compute.wsgi.server [req-b9718cd8-f65e-49cc-8349-6cf7122af137 113d3a99c3da401fbd62cc2caa5b96d2 54fadb412c4e40cdbaed9335e4c35a9e - - -] 10.11.10.1 \"GET /v2/54fadb412c4e40cdbaed9335e4c35a9e/servers/detail HTTP/1.1\" status: 200 len: 1893 time: 0.2675118\n",
      "nova.osapi_compute.wsgi.server [req-4895c258-b2f8-488f-a2a3-4fae63982e48 113d3a99c3da401fbd62cc2caa5b96d2 54fadb412c4e40cdbaed9335e4c35a9e - - -] 10.11.10.1 \"GET /v2/54fadb412c4e40cdbaed9335e4c35a9e/servers/detail HTTP/1.1\" HTTP status code -  200 len: 211 time: 0.0968180\n",
      "            nova.osapi_compute.wsgi.server [req-ee8bc8ba-9265-4280-9215-dbe000a41209 113d3a99c3da401fbd62cc2caa5b96d2 54fadb412c4e40cdbaed9335e4c35a9e - - -] 10.11.10.1 \"GET /v2/54fadb412c4e40cdbaed9335e4c35a9e/servers/detail HTTP/1.1\" RCODE  200 len: 1874 time: 0.2280791\n",
      "      nova.osapi_compute.wsgi.server [req-f0bffbc3-5ab0-4916-91c1-0a61dd7d4ec2 113d3a99c3da401fbd62cc2caa5b96d2 54fadb412c4e40cdbaed9335e4c35a9e - - -] 10.11.10.1 \"GET /v2/54fadb412c4e40cdbaed9335e4c35a9e/servers/detail HTTP/1.1\" Return code: 200 len: 1874 time: 0.2131531\n",
      "            nova.osapi_compute.wsgi.server [req-2bf7cfee-a236-42f3-8fb1-96fefab0b302 113d3a99c3da401fbd62cc2caa5b96d2 54fadb412c4e40cdbaed9335e4c35a9e - - -] 10.11.10.1 \"GET /v2/54fadb412c4e40cdbaed9335e4c35a9e/servers/detail HTTP/1.1\" RCODE  200 len: 1874 time: 0.1794369\n",
      "\n",
      "cluster: 4:\n",
      "File data_6169.csv uploaded successfully by user User953.\n",
      "File data_3847.csv uploaded successfully by user User175.\n",
      "File data_7366.csv uploaded successfully by user User282.\n",
      "File data_1206.csv uploaded successfully by user User359.\n",
      "File data_1503.csv uploaded successfully by user User151.\n",
      "\n",
      "cluster: 5:\n",
      "          nova.compute.claims [req-a07ac654-8e81-416d-bfbb-189116b07969 113d3a99c3da401fbd62cc2caa5b96d2 54fadb412c4e40cdbaed9335e4c35a9e - - -] [instance: bf8c824d-f099-4433-a41e-e3da7578262e] Total memory: 64172 MB, used: 512.00 MB\n",
      "     nova.compute.claims [req-d6986b54-3735-4a42-9074-0ba7d9717de9 113d3a99c3da401fbd62cc2caa5b96d2 54fadb412c4e40cdbaed9335e4c35a9e - - -] [instance: af5f7392-f7d4-4298-b647-c98924c64aa1] memory limit: 96258.00 MB, free: 95746.00 MB\n",
      "nova.compute.claims [req-72b4858f-049e-49e1-b31e-b562c5018eaf 113d3a99c3da401fbd62cc2caa5b96d2 54fadb412c4e40cdbaed9335e4c35a9e - - -] [instance: 63a0d960-70b6-44c6-b606-491478a5cadf] disk limit not specified, defaulting to unlimited\n",
      "nova.compute.claims [req-5c8f52bd-8e3c-41f0-95a5-7861d247cafa 113d3a99c3da401fbd62cc2caa5b96d2 54fadb412c4e40cdbaed9335e4c35a9e - - -] [instance: d96a117b-0193-4549-bdcc-63b917273d1d] vcpu limit not specified, defaulting to unlimited\n",
      "nova.compute.claims [req-d38f479d-9bb9-4276-9688-52607e8fd350 113d3a99c3da401fbd62cc2caa5b96d2 54fadb412c4e40cdbaed9335e4c35a9e - - -] [instance: 95960536-049b-41f6-9049-05fc479b6a7c] disk limit not specified, defaulting to unlimited\n",
      "\n",
      "cluster: 20:\n",
      "                User 7662 tried to bypass API security measures\n",
      "               API intrusion detection system flagged user 6771\n",
      "API security system detected suspicious activity from user 9593\n",
      "       User 2367 failed to provide valid API access credentials\n",
      "                     User 3569 made an unauthorized API request\n",
      "\n",
      "cluster: 26:\n",
      "          Privilege elevation detected for user 5038\n",
      "    Detection of admin privilege misuse by user 1449\n",
      "Elevation of admin privileges detected for user 6137\n",
      "      Admin access escalation detected for user 9429\n",
      "Elevation of admin privileges detected for user 4907\n",
      "\n",
      "cluster: 7:\n",
      "Multiple bad login attempts detected on user 8538 account\n",
      "    Multiple login failures occurred on user 9052 account\n",
      "         User 7153 made multiple incorrect login attempts\n",
      "         User 8300 made multiple incorrect login attempts\n",
      "      Multiple login failures were detected for user 6373\n",
      "\n",
      "cluster: 11:\n",
      "User User685 logged out.\n",
      " User User395 logged in.\n",
      " User User225 logged in.\n",
      "User User494 logged out.\n",
      " User User900 logged in.\n",
      "\n",
      "cluster: 13:\n",
      "Backup started at 2025-05-14 07:06:55.\n",
      "Backup started at 2025-02-15 20:00:19.\n",
      "  Backup ended at 2025-08-08 13:06:23.\n",
      "Backup started at 2025-11-14 08:27:43.\n",
      "Backup started at 2025-12-09 10:19:11.\n",
      "\n",
      "cluster: 16:\n",
      "System reboot initiated by user User243.\n",
      "System reboot initiated by user User471.\n",
      "System reboot initiated by user User216.\n",
      "System reboot initiated by user User639.\n",
      "System reboot initiated by user User819.\n",
      "\n",
      "cluster: 21:\n",
      "System updated to version 3.9.1.\n",
      "System updated to version 5.5.4.\n",
      "System updated to version 4.7.4.\n",
      "System updated to version 3.7.7.\n",
      "System updated to version 2.6.2.\n",
      "\n",
      "cluster: 3:\n",
      "          Shard 6 replication task ended in failure\n",
      "Data replication task for shard 14 did not complete\n",
      "          Data replication task failed for shard 17\n",
      "             Replication of data to shard 14 failed\n",
      " Data replication task for shard 6 did not complete\n",
      "\n",
      "cluster: 17:\n",
      "    Denied access attempt on restricted account Account2682\n",
      "Unauthorized login attempt on protected account Account5030\n",
      "            Account Account9437 blocked due to failed login\n",
      "     Account Account7999 access denied due to login failure\n",
      "  Invalid login attempt made on secured account Account7864\n",
      "\n",
      "cluster: 6:\n",
      "                        Critical system unit error: unit ID Component55\n",
      "                 System component malfunction: component ID Component79\n",
      "                Critical system element is down: element ID Component96\n",
      "                  Essential system part malfunction: part ID Component6\n",
      "Failure occurred in critical system component: component ID Component92\n",
      "\n",
      "cluster: 9:\n",
      "Account with ID 5351 created by User634.\n",
      "Account with ID 7813 created by User373.\n",
      "Account with ID 9827 created by User965.\n",
      "Account with ID 2520 created by User546.\n",
      "Account with ID 2300 created by User964.\n",
      "\n",
      "cluster: 1:\n",
      "  Email service experiencing issues with sending\n",
      "        Email server encountered a sending fault\n",
      "      Mail service encountered a delivery glitch\n",
      "Service disruption caused by email sending error\n",
      "       Email system had a problem sending emails\n",
      "\n",
      "cluster: 32:\n",
      "         Abnormal behavior found on server 10, possible security threat\n",
      "                        Security alert: suspicious activity on server 1\n",
      "Anomalous activity identified on server 23, security review recommended\n",
      "     Server 27 experienced potential security incident, review required\n",
      "     Server 36 experienced potential security incident, review required\n",
      "\n",
      "cluster: 58:\n",
      "           Warning: IP 192.168.151.28 may be compromised\n",
      "  IP 192.168.45.67 flagged for potential security threat\n",
      "     IP 192.168.87.42 flagged for potential cyber threat\n",
      "IP 192.168.237.233 flagged for potential security threat\n",
      "           Warning: IP 192.168.191.32 may be compromised\n",
      "\n",
      "cluster: 14:\n",
      "       Detection of multiple disk faults in RAID setup\n",
      "      RAID array suffered multiple hard drive failures\n",
      "          RAID array experienced multiple disk crashes\n",
      "Multiple hard drive issues in RAID configuration found\n",
      " Identification of multiple faulty disks in RAID array\n",
      "\n",
      "cluster: 12:\n",
      " Alert: brute force login attempt from 192.168.80.114 detected\n",
      "Alert: brute force login attempt from 192.168.226.241 detected\n",
      "    Brute force login detected from IP 192.168.237.105 address\n",
      "    Brute force login detected from IP 192.168.246.138 address\n",
      "     Brute force login detected from IP 192.168.174.13 address\n",
      "\n",
      "cluster: 48:\n",
      "       Module X experienced an invalid data format issue\n",
      "              Input format mismatch occurred in module X\n",
      "   Module X reported an error in input format validation\n",
      "Module X failed to process input due to formatting error\n",
      "  Input data format in module X was invalid or corrupted\n",
      "\n",
      "cluster: 47:\n",
      "     Service health check was not successful because of SSL certificate validation failures.\n",
      "                          Invalid SSL certificate resulted in a failed service health check.\n",
      "Service health check failure was due to an invalid or improperly configured SSL certificate.\n",
      "                  An issue with the SSL certificate caused the service health check to fail.\n",
      "                      Service health check failure was caused by an expired SSL certificate.\n",
      "\n",
      "cluster: 10:\n",
      "  nova.compute.resource_tracker [req-addc1839-2ed5-4778-b57e-5854eb7b8b09 - - - - -] Final resource view: name=cp-1.slowvm1.tcloud-pg0.utah.cloudlab.us phys_ram=64172MB used_ram=512MB phys_disk=15GB used_disk=0GB total_vcpus=16 used_vcpus=0 pci_stats=[]\n",
      "nova.compute.resource_tracker [req-addc1839-2ed5-4778-b57e-5854eb7b8b09 - - - - -] Final resource view: name=cp-1.slowvm1.tcloud-pg0.utah.cloudlab.us phys_ram=64172MB used_ram=2560MB phys_disk=15GB used_disk=20GB total_vcpus=16 used_vcpus=1 pci_stats=[]\n",
      "                                                                                                                          nova.compute.resource_tracker [req-addc1839-2ed5-4778-b57e-5854eb7b8b09 - - - - -] Total usable vcpus: 16, total allocated vcpus: 0\n",
      "nova.compute.resource_tracker [req-addc1839-2ed5-4778-b57e-5854eb7b8b09 - - - - -] Final resource view: name=cp-1.slowvm1.tcloud-pg0.utah.cloudlab.us phys_ram=64172MB used_ram=2560MB phys_disk=15GB used_disk=20GB total_vcpus=16 used_vcpus=1 pci_stats=[]\n",
      "                                                                                                                          nova.compute.resource_tracker [req-addc1839-2ed5-4778-b57e-5854eb7b8b09 - - - - -] Total usable vcpus: 16, total allocated vcpus: 1\n",
      "\n",
      "cluster: 18:\n",
      "   Boot process terminated unexpectedly due to kernel issue\n",
      "System encountered kernel panic during initialization phase\n",
      "             Boot process was stopped by kernel malfunction\n",
      "   System encountered kernel failure during bootup sequence\n",
      "                   Boot sequence failed due to kernel panic\n",
      "\n",
      "cluster: 40:\n",
      "      Unusual access attempt from 192.168.197.162 logged\n",
      "Unauthorised access attempt from 192.168.12.231 detected\n",
      "       Unusual access attempt from 192.168.129.63 logged\n",
      "      Unusual access attempt from 192.168.183.132 logged\n",
      " Unauthorised access attempt from 192.168.99.79 detected\n",
      "\n",
      "cluster: 33:\n",
      " Security breach suspected from IP address 192.168.252.92\n",
      "Security breach suspected from IP address 192.168.157.122\n",
      " Security breach suspected from IP address 192.168.89.160\n",
      "    Security breach suspected from IP address 179.57.87.1\n",
      "Security breach suspected from IP address 240.237.174.143\n",
      "\n",
      "cluster: 25:\n",
      "         System configuration is no longer valid\n",
      "Configuration is corrupted throughout the system\n",
      "     Cross-system configuration failure occurred\n",
      "     System configuration is experiencing errors\n",
      "        Configuration malfunction is system-wide\n",
      "\n",
      "cluster: 62:\n",
      " Warning: potential password cracking attempt from 192.168.29.191\n",
      " Warning: potential password cracking attempt from 192.168.190.64\n",
      "Warning: potential password cracking attempt from 192.168.228.103\n",
      " Warning: potential password cracking attempt from 23.133.228.118\n",
      "  Warning: potential password cracking attempt from 239.89.92.100\n",
      "\n"
     ]
    }
   ],
   "source": [
    "import pandas as pd\n",
    "pd.set_option('display.max_colwidth', None)\n",
    "\n",
    "cluster_count = df['clusters'].value_counts()\n",
    "large_clusters = cluster_count[cluster_count> 10].index\n",
    "\n",
    "for cluster in large_clusters:\n",
    "    print(f\"cluster: {cluster}:\")\n",
    "    print(df[df['clusters']==cluster]['log_message'].head(5).to_string(index=False))\n",
    "    print()"
   ]
  },
  {
   "cell_type": "code",
   "execution_count": 11,
   "id": "d0262846-2da9-4c84-935a-81e6d61c44da",
   "metadata": {},
   "outputs": [],
   "source": [
    "import re \n",
    "def classify_with_regex(log_message): \n",
    "    regex_patterns = { \n",
    "    r\"\\s*User .* logged (in|out).*\": \"User Action\", \n",
    "    r\"\\s*Backup (started|ended) at .*\": \"System Notification\", \n",
    "    r\"\\s*Backup completed successfully.\": \"System Notification\", \n",
    "    r\"\\s*System updated to version.*\": \"System Notification\", \n",
    "    r\"\\s*File .*\\.csv uploaded successfully by user .*\": \"System Notification\", \n",
    "    r\"\\s*Disk cleanup completed successfully.\": \"System Notification\", \n",
    "    r\"\\s*System reboot initiated by user .*\": \"System Notification\", \n",
    "    r\"\\s*Account with ID .* created by .*\": \"User Action\",\n",
    "    r\"\\s*Anomalous traffic from .* flagged for review\": \"Security Alert\",\n",
    "    r\"\\s*IP .* blocked due to potential attack\": \"Security Alert\",\n",
    "    r\"\\s*Warning: potential password cracking attempt from .*\": \"Security Alert\",\n",
    "    r\"\\s*Possible hacking attempt identified from IP .*\": \"Security Alert\",\n",
    "    r\"\\s*IP .* flagged for potential (security|cyber) threat\": \"Security Alert\",\n",
    "    r\"\\s*(Unusual|Unauthorised) access attempt from .* (logged|detected)\": \"Security Alert\",\n",
    "    r\"\\s*Alert: brute force login attempt from .* detected\": \"Security Alert\",\n",
    "    r\"\\s*Brute force login detected from IP .* address\": \"Security Alert\"\n",
    "    }\n",
    "\n",
    "    for pattern, label in regex_patterns.items():\n",
    "        if re.search(pattern, log_message, re.IGNORECASE):\n",
    "            return label\n",
    "    return None"
   ]
  },
  {
   "cell_type": "code",
   "execution_count": 12,
   "id": "016cdcc1-edb4-4ac0-a652-14257198bff2",
   "metadata": {},
   "outputs": [
    {
     "name": "stdout",
     "output_type": "stream",
     "text": [
      "None\n"
     ]
    }
   ],
   "source": [
    "print(classify_with_regex(\"hello\"))"
   ]
  },
  {
   "cell_type": "code",
   "execution_count": 13,
   "id": "a06465fc-1b49-4ed9-b23b-3e807f45db72",
   "metadata": {},
   "outputs": [],
   "source": [
    "df['regex_label'] = df['log_message'].apply(classify_with_regex)"
   ]
  },
  {
   "cell_type": "code",
   "execution_count": 14,
   "id": "814f0f0c-f72b-4495-89df-a67e0ee685e2",
   "metadata": {},
   "outputs": [
    {
     "data": {
      "text/plain": [
       "(618, 6)"
      ]
     },
     "execution_count": 14,
     "metadata": {},
     "output_type": "execute_result"
    }
   ],
   "source": [
    "df[df.regex_label.notnull()].shape"
   ]
  },
  {
   "cell_type": "code",
   "execution_count": 15,
   "id": "35184d30-c606-4cca-ac14-0cfa5c978e81",
   "metadata": {},
   "outputs": [
    {
     "data": {
      "text/plain": [
       "(4873, 6)"
      ]
     },
     "execution_count": 15,
     "metadata": {},
     "output_type": "execute_result"
    }
   ],
   "source": [
    "df.shape"
   ]
  },
  {
   "cell_type": "code",
   "execution_count": 16,
   "id": "389e267e-8a09-430c-a9ff-ad7e7f8631ec",
   "metadata": {},
   "outputs": [
    {
     "data": {
      "text/plain": [
       "(4255, 6)"
      ]
     },
     "execution_count": 16,
     "metadata": {},
     "output_type": "execute_result"
    }
   ],
   "source": [
    "df_non_regex = df[df['regex_label'].isnull()].copy()\n",
    "df_non_regex.shape"
   ]
  },
  {
   "cell_type": "code",
   "execution_count": 17,
   "id": "3fb6dd38-f9ad-41c2-a748-6126d7aac852",
   "metadata": {},
   "outputs": [
    {
     "name": "stdout",
     "output_type": "stream",
     "text": [
      "['Workflow Error', 'Deprecation Warning']\n"
     ]
    }
   ],
   "source": [
    "print(df_non_regex['target_label'].value_counts()[df_non_regex['target_label'].value_counts() <=15].index.tolist())"
   ]
  },
  {
   "cell_type": "code",
   "execution_count": 18,
   "id": "38434934-3f67-48c7-b94e-b1fa2c0b3295",
   "metadata": {},
   "outputs": [
    {
     "data": {
      "text/plain": [
       "array(['ModernCRM', 'AnalyticsEngine', 'ModernHR', 'BillingSystem',\n",
       "       'ThirdPartyAPI'], dtype=object)"
      ]
     },
     "execution_count": 18,
     "metadata": {},
     "output_type": "execute_result"
    }
   ],
   "source": [
    "df_non_lecacy = df_non_regex[df_non_regex['source'] != 'LegacyCRM'].copy()\n",
    "df_non_lecacy.reset_index(drop=True, inplace=True)\n",
    "\n",
    "df_non_lecacy['source'].unique()"
   ]
  },
  {
   "cell_type": "code",
   "execution_count": 183,
   "id": "2588797a-91f6-4db1-be28-0be1ed081b1b",
   "metadata": {},
   "outputs": [],
   "source": [
    "filtered_embeddings = model.encode(df_non_lecacy['log_message']).tolist()"
   ]
  },
  {
   "cell_type": "code",
   "execution_count": 193,
   "id": "d06ed241-ba67-4f08-a2b1-16f80522123a",
   "metadata": {},
   "outputs": [
    {
     "name": "stdout",
     "output_type": "stream",
     "text": [
      "                precision    recall  f1-score   support\n",
      "\n",
      "Critical Error       0.96      0.96      0.96        51\n",
      "         Error       0.97      0.97      0.97        63\n",
      "   HTTP Status       1.00      1.00      1.00       937\n",
      "Resource Usage       1.00      1.00      1.00        50\n",
      "Security Alert       1.00      1.00      1.00       171\n",
      "\n",
      "      accuracy                           1.00      1272\n",
      "     macro avg       0.99      0.99      0.99      1272\n",
      "  weighted avg       1.00      1.00      1.00      1272\n",
      "\n"
     ]
    }
   ],
   "source": [
    "X = filtered_embeddings\n",
    "y = df_non_lecacy['target_label']\n",
    "\n",
    "from sklearn.model_selection import train_test_split\n",
    "from sklearn.linear_model import LogisticRegression\n",
    "from sklearn.metrics import classification_report, ConfusionMatrixDisplay, confusion_matrix\n",
    "\n",
    "X_train, X_test, y_train, y_test = train_test_split(X, y, test_size=0.3, random_state=42)\n",
    "lr = LogisticRegression(max_iter=1000)\n",
    "lr.fit(X_train, y_train)\n",
    "y_pred = lr.predict(X_test)\n",
    "report = classification_report(y_test, y_pred)\n",
    "\n",
    "print(report)"
   ]
  },
  {
   "cell_type": "code",
   "execution_count": 194,
   "id": "e9b50499-cac0-4916-a5d3-b80f392391fc",
   "metadata": {},
   "outputs": [
    {
     "data": {
      "image/png": "[encoded data removed]",
      "text/plain": [
       "<Figure size 800x600 with 2 Axes>"
      ]
     },
     "metadata": {},
     "output_type": "display_data"
    }
   ],
   "source": [
    "import matplotlib.pyplot as plt\n",
    "\n",
    "cm = confusion_matrix(y_test, y_pred, labels=labels)\n",
    "disp = ConfusionMatrixDisplay(confusion_matrix=cm, display_labels=labels)\n",
    "\n",
    "fig, ax = plt.subplots(figsize=(8, 6))\n",
    "disp.plot(cmap='Blues', ax=ax, values_format='d')\n",
    "plt.title(\"Confusion Matrix for Log Classification\")\n",
    "plt.xticks(rotation=45)\n",
    "plt.tight_layout()\n",
    "plt.show()\n"
   ]
  },
  {
   "cell_type": "code",
   "execution_count": 199,
   "id": "778c3204-c41c-4488-abcb-60142227dd15",
   "metadata": {},
   "outputs": [
    {
     "data": {
      "text/plain": [
       "['../Model/log_clf.joblib']"
      ]
     },
     "execution_count": 199,
     "metadata": {},
     "output_type": "execute_result"
    }
   ],
   "source": [
    "import joblib\n",
    "\n",
    "joblib.dump(lr, '../Model/log_clf.joblib')"
   ]
  },
  {
   "cell_type": "code",
   "execution_count": 19,
   "id": "00f8997b-d4d7-4767-9532-1a7cc4bbd3f4",
   "metadata": {},
   "outputs": [
    {
     "data": {
      "text/html": [
       "<div>\n",
       "<style scoped>\n",
       "    .dataframe tbody tr th:only-of-type {\n",
       "        vertical-align: middle;\n",
       "    }\n",
       "\n",
       "    .dataframe tbody tr th {\n",
       "        vertical-align: top;\n",
       "    }\n",
       "\n",
       "    .dataframe thead th {\n",
       "        text-align: right;\n",
       "    }\n",
       "</style>\n",
       "<table border=\"1\" class=\"dataframe\">\n",
       "  <thead>\n",
       "    <tr style=\"text-align: right;\">\n",
       "      <th></th>\n",
       "      <th>timestamp</th>\n",
       "      <th>source</th>\n",
       "      <th>log_message</th>\n",
       "      <th>target_label</th>\n",
       "      <th>clusters</th>\n",
       "      <th>regex_label</th>\n",
       "    </tr>\n",
       "  </thead>\n",
       "  <tbody>\n",
       "    <tr>\n",
       "      <th>0</th>\n",
       "      <td>2025-06-27 07:20:25</td>\n",
       "      <td>ModernCRM</td>\n",
       "      <td>nova.osapi_compute.wsgi.server [req-b9718cd8-f65e-49cc-8349-6cf7122af137 113d3a99c3da401fbd62cc2caa5b96d2 54fadb412c4e40cdbaed9335e4c35a9e - - -] 10.11.10.1 \"GET /v2/54fadb412c4e40cdbaed9335e4c35a9e/servers/detail HTTP/1.1\" status: 200 len: 1893 time: 0.2675118</td>\n",
       "      <td>HTTP Status</td>\n",
       "      <td>0</td>\n",
       "      <td>None</td>\n",
       "    </tr>\n",
       "    <tr>\n",
       "      <th>1</th>\n",
       "      <td>1/14/2025 23:07</td>\n",
       "      <td>ModernCRM</td>\n",
       "      <td>Email service experiencing issues with sending</td>\n",
       "      <td>Critical Error</td>\n",
       "      <td>1</td>\n",
       "      <td>None</td>\n",
       "    </tr>\n",
       "    <tr>\n",
       "      <th>2</th>\n",
       "      <td>1/17/2025 1:29</td>\n",
       "      <td>AnalyticsEngine</td>\n",
       "      <td>Unauthorized access to data was attempted</td>\n",
       "      <td>Security Alert</td>\n",
       "      <td>2</td>\n",
       "      <td>None</td>\n",
       "    </tr>\n",
       "    <tr>\n",
       "      <th>3</th>\n",
       "      <td>2025-07-12 00:24:16</td>\n",
       "      <td>ModernHR</td>\n",
       "      <td>nova.osapi_compute.wsgi.server [req-4895c258-b2f8-488f-a2a3-4fae63982e48 113d3a99c3da401fbd62cc2caa5b96d2 54fadb412c4e40cdbaed9335e4c35a9e - - -] 10.11.10.1 \"GET /v2/54fadb412c4e40cdbaed9335e4c35a9e/servers/detail HTTP/1.1\" HTTP status code -  200 len: 211 time: 0.0968180</td>\n",
       "      <td>HTTP Status</td>\n",
       "      <td>0</td>\n",
       "      <td>None</td>\n",
       "    </tr>\n",
       "    <tr>\n",
       "      <th>4</th>\n",
       "      <td>2025-06-02 18:25:23</td>\n",
       "      <td>BillingSystem</td>\n",
       "      <td>nova.osapi_compute.wsgi.server [req-ee8bc8ba-9265-4280-9215-dbe000a41209 113d3a99c3da401fbd62cc2caa5b96d2 54fadb412c4e40cdbaed9335e4c35a9e - - -] 10.11.10.1 \"GET /v2/54fadb412c4e40cdbaed9335e4c35a9e/servers/detail HTTP/1.1\" RCODE  200 len: 1874 time: 0.2280791</td>\n",
       "      <td>HTTP Status</td>\n",
       "      <td>0</td>\n",
       "      <td>None</td>\n",
       "    </tr>\n",
       "    <tr>\n",
       "      <th>...</th>\n",
       "      <td>...</td>\n",
       "      <td>...</td>\n",
       "      <td>...</td>\n",
       "      <td>...</td>\n",
       "      <td>...</td>\n",
       "      <td>...</td>\n",
       "    </tr>\n",
       "    <tr>\n",
       "      <th>4233</th>\n",
       "      <td>2025-05-18 00:53:31</td>\n",
       "      <td>ModernHR</td>\n",
       "      <td>nova.osapi_compute.wsgi.server [req-403846bd-dd0d-4472-a78d-6077e720094b 113d3a99c3da401fbd62cc2caa5b96d2 54fadb412c4e40cdbaed9335e4c35a9e - - -] 195.64.6.55 \"GET /v2/54fadb412c4e40cdbaed9335e4c35a9e/servers/detail HTTP/1.1\" Return code: 200 len: 1893 time: 0.2580168</td>\n",
       "      <td>HTTP Status</td>\n",
       "      <td>0</td>\n",
       "      <td>None</td>\n",
       "    </tr>\n",
       "    <tr>\n",
       "      <th>4234</th>\n",
       "      <td>2025-05-18 00:53:31</td>\n",
       "      <td>ThirdPartyAPI</td>\n",
       "      <td>nova.osapi_compute.wsgi.server [req-9135d880-f631-446a-a1be-52240999a2a8 113d3a99c3da401fbd62cc2caa5b96d2 54fadb412c4e40cdbaed9335e4c35a9e - - -] 204.170.190.198 \"GET /v2/54fadb412c4e40cdbaed9335e4c35a9e/servers/detail HTTP/1.1\" Return code: 200 len: 1893 time: 0.2629149</td>\n",
       "      <td>HTTP Status</td>\n",
       "      <td>0</td>\n",
       "      <td>None</td>\n",
       "    </tr>\n",
       "    <tr>\n",
       "      <th>4235</th>\n",
       "      <td>2025-05-18 00:53:31</td>\n",
       "      <td>ModernHR</td>\n",
       "      <td>nova.osapi_compute.wsgi.server [req-17ee8196-ec23-4adc-acc9-4c24686d8b68 113d3a99c3da401fbd62cc2caa5b96d2 54fadb412c4e40cdbaed9335e4c35a9e - - -] 20.226.81.146 \"GET /v2/54fadb412c4e40cdbaed9335e4c35a9e/servers/detail HTTP/1.1\" RCODE  200 len: 1893 time: 0.2791021</td>\n",
       "      <td>HTTP Status</td>\n",
       "      <td>0</td>\n",
       "      <td>None</td>\n",
       "    </tr>\n",
       "    <tr>\n",
       "      <th>4236</th>\n",
       "      <td>2025-05-18 00:53:31</td>\n",
       "      <td>AnalyticsEngine</td>\n",
       "      <td>Multiple login failures occurred on user x456 account</td>\n",
       "      <td>Security Alert</td>\n",
       "      <td>7</td>\n",
       "      <td>None</td>\n",
       "    </tr>\n",
       "    <tr>\n",
       "      <th>4237</th>\n",
       "      <td>2025-05-18 00:53:31</td>\n",
       "      <td>ModernCRM</td>\n",
       "      <td>nova.osapi_compute.wsgi.server [req-9d2c1d24-f157-464f-aa8c-17ebcdaac12b 113d3a99c3da401fbd62cc2caa5b96d2 54fadb412c4e40cdbaed9335e4c35a9e - - -] 169.242.63.0 \"GET /v2/54fadb412c4e40cdbaed9335e4c35a9e/servers/detail HTTP/1.1\" status: 200 len: 1910 time: 0.2577691</td>\n",
       "      <td>HTTP Status</td>\n",
       "      <td>0</td>\n",
       "      <td>None</td>\n",
       "    </tr>\n",
       "  </tbody>\n",
       "</table>\n",
       "<p>4238 rows × 6 columns</p>\n",
       "</div>"
      ],
      "text/plain": [
       "                timestamp           source  \\\n",
       "0     2025-06-27 07:20:25        ModernCRM   \n",
       "1         1/14/2025 23:07        ModernCRM   \n",
       "2          1/17/2025 1:29  AnalyticsEngine   \n",
       "3     2025-07-12 00:24:16         ModernHR   \n",
       "4     2025-06-02 18:25:23    BillingSystem   \n",
       "...                   ...              ...   \n",
       "4233  2025-05-18 00:53:31         ModernHR   \n",
       "4234  2025-05-18 00:53:31    ThirdPartyAPI   \n",
       "4235  2025-05-18 00:53:31         ModernHR   \n",
       "4236  2025-05-18 00:53:31  AnalyticsEngine   \n",
       "4237  2025-05-18 00:53:31        ModernCRM   \n",
       "\n",
       "                                                                                                                                                                                                                                                                           log_message  \\\n",
       "0                nova.osapi_compute.wsgi.server [req-b9718cd8-f65e-49cc-8349-6cf7122af137 113d3a99c3da401fbd62cc2caa5b96d2 54fadb412c4e40cdbaed9335e4c35a9e - - -] 10.11.10.1 \"GET /v2/54fadb412c4e40cdbaed9335e4c35a9e/servers/detail HTTP/1.1\" status: 200 len: 1893 time: 0.2675118   \n",
       "1                                                                                                                                                                                                                                       Email service experiencing issues with sending   \n",
       "2                                                                                                                                                                                                                                            Unauthorized access to data was attempted   \n",
       "3     nova.osapi_compute.wsgi.server [req-4895c258-b2f8-488f-a2a3-4fae63982e48 113d3a99c3da401fbd62cc2caa5b96d2 54fadb412c4e40cdbaed9335e4c35a9e - - -] 10.11.10.1 \"GET /v2/54fadb412c4e40cdbaed9335e4c35a9e/servers/detail HTTP/1.1\" HTTP status code -  200 len: 211 time: 0.0968180   \n",
       "4                 nova.osapi_compute.wsgi.server [req-ee8bc8ba-9265-4280-9215-dbe000a41209 113d3a99c3da401fbd62cc2caa5b96d2 54fadb412c4e40cdbaed9335e4c35a9e - - -] 10.11.10.1 \"GET /v2/54fadb412c4e40cdbaed9335e4c35a9e/servers/detail HTTP/1.1\" RCODE  200 len: 1874 time: 0.2280791   \n",
       "...                                                                                                                                                                                                                                                                                ...   \n",
       "4233       nova.osapi_compute.wsgi.server [req-403846bd-dd0d-4472-a78d-6077e720094b 113d3a99c3da401fbd62cc2caa5b96d2 54fadb412c4e40cdbaed9335e4c35a9e - - -] 195.64.6.55 \"GET /v2/54fadb412c4e40cdbaed9335e4c35a9e/servers/detail HTTP/1.1\" Return code: 200 len: 1893 time: 0.2580168   \n",
       "4234   nova.osapi_compute.wsgi.server [req-9135d880-f631-446a-a1be-52240999a2a8 113d3a99c3da401fbd62cc2caa5b96d2 54fadb412c4e40cdbaed9335e4c35a9e - - -] 204.170.190.198 \"GET /v2/54fadb412c4e40cdbaed9335e4c35a9e/servers/detail HTTP/1.1\" Return code: 200 len: 1893 time: 0.2629149   \n",
       "4235           nova.osapi_compute.wsgi.server [req-17ee8196-ec23-4adc-acc9-4c24686d8b68 113d3a99c3da401fbd62cc2caa5b96d2 54fadb412c4e40cdbaed9335e4c35a9e - - -] 20.226.81.146 \"GET /v2/54fadb412c4e40cdbaed9335e4c35a9e/servers/detail HTTP/1.1\" RCODE  200 len: 1893 time: 0.2791021   \n",
       "4236                                                                                                                                                                                                                             Multiple login failures occurred on user x456 account   \n",
       "4237           nova.osapi_compute.wsgi.server [req-9d2c1d24-f157-464f-aa8c-17ebcdaac12b 113d3a99c3da401fbd62cc2caa5b96d2 54fadb412c4e40cdbaed9335e4c35a9e - - -] 169.242.63.0 \"GET /v2/54fadb412c4e40cdbaed9335e4c35a9e/servers/detail HTTP/1.1\" status: 200 len: 1910 time: 0.2577691   \n",
       "\n",
       "        target_label  clusters regex_label  \n",
       "0        HTTP Status         0        None  \n",
       "1     Critical Error         1        None  \n",
       "2     Security Alert         2        None  \n",
       "3        HTTP Status         0        None  \n",
       "4        HTTP Status         0        None  \n",
       "...              ...       ...         ...  \n",
       "4233     HTTP Status         0        None  \n",
       "4234     HTTP Status         0        None  \n",
       "4235     HTTP Status         0        None  \n",
       "4236  Security Alert         7        None  \n",
       "4237     HTTP Status         0        None  \n",
       "\n",
       "[4238 rows x 6 columns]"
      ]
     },
     "execution_count": 19,
     "metadata": {},
     "output_type": "execute_result"
    }
   ],
   "source": [
    "df_non_lecacy"
   ]
  },
  {
   "cell_type": "code",
   "execution_count": null,
   "id": "82144dcb",
   "metadata": {},
   "outputs": [],
   "source": []
  }
 ],
 "metadata": {
  "kernelspec": {
   "display_name": "Python 3 (ipykernel)",
   "language": "python",
   "name": "python3"
  },
  "language_info": {
   "codemirror_mode": {
    "name": "ipython",
    "version": 3
   },
   "file_extension": ".py",
   "mimetype": "text/x-python",
   "name": "python",
   "nbconvert_exporter": "python",
   "pygments_lexer": "ipython3",
   "version": "3.13.2"
  }
 },
 "nbformat": 4,
 "nbformat_minor": 5
}
